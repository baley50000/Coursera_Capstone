{
 "cells": [
  {
   "cell_type": "markdown",
   "metadata": {},
   "source": [
    "# week 3-1create the dataframe"
   ]
  },
  {
   "cell_type": "code",
   "execution_count": 12,
   "metadata": {},
   "outputs": [],
   "source": [
    "import requests\n",
    "from bs4 import BeautifulSoup\n",
    "import pandas as pd"
   ]
  },
  {
   "cell_type": "markdown",
   "metadata": {},
   "source": [
    "google \"PostalCode, Borough, and Neighborhood toronto wiki\" and get url"
   ]
  },
  {
   "cell_type": "code",
   "execution_count": 3,
   "metadata": {},
   "outputs": [],
   "source": [
    "website_url = requests.get('https://en.wikipedia.org/wiki/List_of_postal_codes_of_Canada:_M').text"
   ]
  },
  {
   "cell_type": "code",
   "execution_count": 4,
   "metadata": {},
   "outputs": [],
   "source": [
    "soup = BeautifulSoup(website_url,'lxml')"
   ]
  },
  {
   "cell_type": "code",
   "execution_count": 6,
   "metadata": {},
   "outputs": [],
   "source": [
    "table_contents = []\n",
    "table = soup.find('table')"
   ]
  },
  {
   "cell_type": "code",
   "execution_count": 8,
   "metadata": {},
   "outputs": [
    {
     "data": {
      "text/plain": [
       "<table cellpadding=\"2\" cellspacing=\"0\" rules=\"all\" style=\"width:100%; border-collapse:collapse; border:1px solid #ccc;\">\n",
       "<tbody><tr>\n",
       "<td style=\"width:11%; vertical-align:top; color:#ccc;\">\n",
       "<p><b>M1A</b><br/><span style=\"font-size:85%;\"><i>Not assigned</i></span>\n",
       "</p>\n",
       "</td>\n",
       "<td style=\"width:11%; vertical-align:top; color:#ccc;\">\n",
       "<p><b>M2A</b><br/><span style=\"font-size:85%;\"><i>Not assigned</i></span>\n",
       "</p>\n",
       "</td>\n",
       "<td style=\"width:11%; vertical-align:top;\">\n",
       "<p><b>M3A</b><br/><span style=\"font-size:85%;\"><a href=\"/wiki/North_York\" title=\"North York\">North York</a><br/>(<a href=\"/wiki/Parkwoods\" title=\"Parkwoods\">Parkwoods</a>)</span>\n",
       "</p>\n",
       "</td>\n",
       "<td style=\"width:11%; vertical-align:top;\">\n",
       "<p><b>M4A</b><br/><span style=\"font-size:85%;\"><a href=\"/wiki/North_York\" title=\"North York\">North York</a><br/>(<a href=\"/wiki/Victoria_Village\" title=\"Victoria Village\">Victoria Village</a>)</span>\n",
       "</p>\n",
       "</td>\n",
       "<td style=\"width:11%; vertical-align:top;\">\n",
       "<p><b>M5A</b><br/><span style=\"font-size:85%;\"><a href=\"/wiki/Downtown_Toronto\" title=\"Downtown Toronto\">Downtown Toronto</a><br/>(<a href=\"/wiki/Regent_Park\" title=\"Regent Park\">Regent Park</a> / <a href=\"/wiki/Harbourfront,_Toronto\" title=\"Harbourfront, Toronto\">Harbourfront</a>)</span>\n",
       "</p>\n",
       "</td>\n",
       "<td style=\"width:11%; vertical-align:top;\">\n",
       "<p><b>M6A</b><br/><span style=\"font-size:85%;\"><a href=\"/wiki/North_York\" title=\"North York\">North York</a><br/>(<a href=\"/wiki/Lawrence_Manor\" title=\"Lawrence Manor\">Lawrence Manor</a> / <a href=\"/wiki/Lawrence_Heights\" title=\"Lawrence Heights\">Lawrence Heights</a>)</span>\n",
       "</p>\n",
       "</td>\n",
       "<td style=\"width:11%; vertical-align:top;\">\n",
       "<p><b>M7A</b><br/><span style=\"font-size:85%;\"><a href=\"/wiki/Queen%27s_Park_(Toronto)\" title=\"Queen's Park (Toronto)\">Queen's Park</a><br/>(Ontario Provincial Government)</span>\n",
       "</p>\n",
       "</td>\n",
       "<td style=\"width:11%; vertical-align:top; color:#ccc;\">\n",
       "<p><b>M8A</b><br/><span style=\"font-size:85%;\"><i>Not assigned</i></span>\n",
       "</p>\n",
       "</td>\n",
       "<td style=\"width:11%; vertical-align:top;\">\n",
       "<p><b>M9A</b><br/><span style=\"font-size:85%;\"><a href=\"/wiki/Etobicoke\" title=\"Etobicoke\">Etobicoke</a><br/>(<a class=\"mw-redirect\" href=\"/wiki/Islington_Avenue\" title=\"Islington Avenue\">Islington Avenue</a>)</span>\n",
       "</p>\n",
       "</td></tr>\n",
       "<tr>\n",
       "<td style=\"vertical-align:top;\">\n",
       "<p><b>M1B</b><br/><span style=\"font-size:85%;\"><a href=\"/wiki/Scarborough,_Toronto\" title=\"Scarborough, Toronto\">Scarborough</a><br/>(<a href=\"/wiki/Malvern,_Toronto\" title=\"Malvern, Toronto\">Malvern</a> / <a href=\"/wiki/Rouge,_Toronto\" title=\"Rouge, Toronto\">Rouge</a>)</span>\n",
       "</p>\n",
       "</td>\n",
       "<td style=\"vertical-align:top; color:#ccc;\">\n",
       "<p><b>M2B</b><br/><span style=\"font-size:85%;\"><i>Not assigned</i></span>\n",
       "</p>\n",
       "</td>\n",
       "<td style=\"vertical-align:top;\">\n",
       "<p><b>M3B</b><br/><span style=\"font-size:85%;\"><a href=\"/wiki/North_York\" title=\"North York\">North York</a><br/>(<a href=\"/wiki/Don_Mills\" title=\"Don Mills\">Don Mills</a>)<br/>North</span>\n",
       "</p>\n",
       "</td>\n",
       "<td style=\"vertical-align:top;\">\n",
       "<p><b>M4B</b><br/><span style=\"font-size:85%;\"><a href=\"/wiki/East_York\" title=\"East York\">East York</a><br/>(<a class=\"mw-redirect\" href=\"/wiki/Parkview_Hill\" title=\"Parkview Hill\">Parkview Hill</a> / <a class=\"mw-redirect\" href=\"/wiki/Woodbine_Gardens\" title=\"Woodbine Gardens\">Woodbine Gardens</a>)</span>\n",
       "</p>\n",
       "</td>\n",
       "<td style=\"vertical-align:top;\">\n",
       "<p><b>M5B</b><br/><span style=\"font-size:85%;\"><a href=\"/wiki/Downtown_Toronto\" title=\"Downtown Toronto\">Downtown Toronto</a><br/>(<a href=\"/wiki/Garden_District,_Toronto\" title=\"Garden District, Toronto\">Garden District</a>, <a href=\"/wiki/Ryerson_University\" title=\"Ryerson University\">Ryerson</a>)</span>\n",
       "</p>\n",
       "</td>\n",
       "<td style=\"vertical-align:top;\">\n",
       "<p><b>M6B</b><br/><span style=\"font-size:85%;\"><a href=\"/wiki/North_York\" title=\"North York\">North York</a><br/>(Glencairn)</span>\n",
       "</p>\n",
       "</td>\n",
       "<td style=\"vertical-align:top; color:#ccc;\">\n",
       "<p><b>M7B</b><br/><span style=\"font-size:85%;\"><i>Not assigned</i></span>\n",
       "</p>\n",
       "</td>\n",
       "<td style=\"vertical-align:top; color:#ccc;\">\n",
       "<p><b>M8B</b><br/><span style=\"font-size:85%;\"><i>Not assigned</i></span>\n",
       "</p>\n",
       "</td>\n",
       "<td style=\"vertical-align:top;\">\n",
       "<p><b>M9B</b><br/><span style=\"font-size:85%;\"><a href=\"/wiki/Etobicoke\" title=\"Etobicoke\">Etobicoke</a><br/>(<a class=\"mw-redirect\" href=\"/wiki/West_Deane_Park\" title=\"West Deane Park\">West Deane Park</a> / <a href=\"/wiki/Princess_Gardens\" title=\"Princess Gardens\">Princess Gardens</a> / <a class=\"mw-redirect\" href=\"/wiki/Martin_Grove_Road\" title=\"Martin Grove Road\">Martin Grove</a> / <a class=\"mw-redirect\" href=\"/wiki/Islington,_Toronto\" title=\"Islington, Toronto\">Islington</a> / Cloverdale)</span>\n",
       "</p>\n",
       "</td></tr>\n",
       "<tr>\n",
       "<td style=\"vertical-align:top;\">\n",
       "<p><b>M1C</b><br/><span style=\"font-size:85%;\"><a href=\"/wiki/Scarborough,_Toronto\" title=\"Scarborough, Toronto\">Scarborough</a><br/>(<a class=\"mw-redirect\" href=\"/wiki/Rouge_Hill\" title=\"Rouge Hill\">Rouge Hill</a> / <a class=\"mw-redirect\" href=\"/wiki/Port_Union,_Ontario\" title=\"Port Union, Ontario\">Port Union</a> / <a href=\"/wiki/Highland_Creek,_Toronto\" title=\"Highland Creek, Toronto\">Highland Creek</a>)</span>\n",
       "</p>\n",
       "</td>\n",
       "<td style=\"vertical-align:top; color:#ccc;\">\n",
       "<p><b>M2C</b><br/><span style=\"font-size:85%;\"><i>Not assigned</i></span>\n",
       "</p>\n",
       "</td>\n",
       "<td style=\"vertical-align:top;\">\n",
       "<p><b>M3C</b><br/><span style=\"font-size:85%;\"><a href=\"/wiki/North_York\" title=\"North York\">North York</a><br/>(<a href=\"/wiki/Don_Mills\" title=\"Don Mills\">Don Mills</a>)<br/>South<br/>(<a href=\"/wiki/Flemingdon_Park\" title=\"Flemingdon Park\">Flemingdon Park</a>)</span>\n",
       "</p>\n",
       "</td>\n",
       "<td style=\"vertical-align:top;\">\n",
       "<p><b>M4C</b><br/><span style=\"font-size:85%;\"><a href=\"/wiki/East_York\" title=\"East York\">East York</a><br/>(<a class=\"mw-redirect\" href=\"/wiki/Woodbine_Heights\" title=\"Woodbine Heights\">Woodbine Heights</a>)</span>\n",
       "</p>\n",
       "</td>\n",
       "<td style=\"vertical-align:top;\">\n",
       "<p><b>M5C</b><br/><span style=\"font-size:85%;\"><a href=\"/wiki/Downtown_Toronto\" title=\"Downtown Toronto\">Downtown Toronto</a><br/>(<a href=\"/wiki/St._James_Town\" title=\"St. James Town\">St. James Town</a>)</span>\n",
       "</p>\n",
       "</td>\n",
       "<td style=\"vertical-align:top;\">\n",
       "<p><b>M6C</b><br/><span style=\"font-size:85%;\"><a href=\"/wiki/York,_Toronto\" title=\"York, Toronto\">York</a><br/>(<a class=\"mw-redirect\" href=\"/wiki/Humewood-Cedarvale\" title=\"Humewood-Cedarvale\">Humewood-Cedarvale</a>)</span>\n",
       "</p>\n",
       "</td>\n",
       "<td style=\"vertical-align:top; color:#ccc;\">\n",
       "<p><b>M7C</b><br/><span style=\"font-size:85%;\"><i>Not assigned</i></span>\n",
       "</p>\n",
       "</td>\n",
       "<td style=\"vertical-align:top; color:#ccc;\">\n",
       "<p><b>M8C</b><br/><span style=\"font-size:85%;\"><i>Not assigned</i></span>\n",
       "</p>\n",
       "</td>\n",
       "<td style=\"vertical-align:top;\">\n",
       "<p><b>M9C</b><br/><span style=\"font-size:85%;\"><a href=\"/wiki/Etobicoke\" title=\"Etobicoke\">Etobicoke</a><br/>(Eringate / Bloordale Gardens / Old Burnhamthorpe / <a href=\"/wiki/Markland_Wood\" title=\"Markland Wood\">Markland Wood</a>)</span>\n",
       "</p>\n",
       "</td></tr>\n",
       "<tr>\n",
       "<td style=\"vertical-align:top;\">\n",
       "<p><b>M1E</b><br/><span style=\"font-size:85%;\"><a href=\"/wiki/Scarborough,_Toronto\" title=\"Scarborough, Toronto\">Scarborough</a><br/>(<a href=\"/wiki/Guildwood\" title=\"Guildwood\">Guildwood</a> / <a href=\"/wiki/Morningside,_Toronto\" title=\"Morningside, Toronto\">Morningside</a> / <a href=\"/wiki/West_Hill,_Toronto\" title=\"West Hill, Toronto\">West Hill</a>)</span>\n",
       "</p>\n",
       "</td>\n",
       "<td style=\"vertical-align:top; color:#ccc;\">\n",
       "<p><b>M2E</b><br/><span style=\"font-size:85%;\"><i>Not assigned</i></span>\n",
       "</p>\n",
       "</td>\n",
       "<td style=\"vertical-align:top; color:#ccc;\">\n",
       "<p><b>M3E</b><br/><span style=\"font-size:85%;\"><i>Not assigned</i></span>\n",
       "</p>\n",
       "</td>\n",
       "<td style=\"vertical-align:top;\">\n",
       "<p><b>M4E</b><br/><span style=\"font-size:85%;\">East Toronto<br/>(<a href=\"/wiki/The_Beaches\" title=\"The Beaches\">The Beaches</a>)</span>\n",
       "</p>\n",
       "</td>\n",
       "<td style=\"vertical-align:top;\">\n",
       "<p><b>M5E</b><br/><span style=\"font-size:85%;\"><a href=\"/wiki/Downtown_Toronto\" title=\"Downtown Toronto\">Downtown Toronto</a><br/>(Berczy Park)</span>\n",
       "</p>\n",
       "</td>\n",
       "<td style=\"vertical-align:top;\">\n",
       "<p><b>M6E</b><br/><span style=\"font-size:85%;\"><a href=\"/wiki/York,_Toronto\" title=\"York, Toronto\">York</a><br/>(<a class=\"mw-redirect\" href=\"/wiki/Caledonia-Fairbanks\" title=\"Caledonia-Fairbanks\">Caledonia-Fairbanks</a>)</span>\n",
       "</p>\n",
       "</td>\n",
       "<td style=\"vertical-align:top; color:#ccc;\">\n",
       "<p><b>M7E</b><br/><span style=\"font-size:85%;\"><i>Not assigned</i></span>\n",
       "</p>\n",
       "</td>\n",
       "<td style=\"vertical-align:top; color:#ccc;\">\n",
       "<p><b>M8E</b><br/><span style=\"font-size:85%;\"><i>Not assigned</i></span>\n",
       "</p>\n",
       "</td>\n",
       "<td style=\"vertical-align:top; color:#ccc;\">\n",
       "<p><b>M9E</b><br/><span style=\"font-size:85%;\"><i>Not assigned</i></span>\n",
       "</p>\n",
       "</td></tr>\n",
       "<tr>\n",
       "<td style=\"vertical-align:top;\">\n",
       "<p><b>M1G</b><br/><span style=\"font-size:85%;\"><a href=\"/wiki/Scarborough,_Toronto\" title=\"Scarborough, Toronto\">Scarborough</a><br/>(<a href=\"/wiki/Woburn,_Toronto\" title=\"Woburn, Toronto\">Woburn</a>)</span>\n",
       "</p>\n",
       "</td>\n",
       "<td style=\"vertical-align:top; color:#ccc;\">\n",
       "<p><b>M2G</b><br/><span style=\"font-size:85%;\"><i>Not assigned</i></span>\n",
       "</p>\n",
       "</td>\n",
       "<td style=\"vertical-align:top; color:#ccc;\">\n",
       "<p><b>M3G</b><br/><span style=\"font-size:85%;\"><i>Not assigned</i></span>\n",
       "</p>\n",
       "</td>\n",
       "<td style=\"vertical-align:top;\">\n",
       "<p><b>M4G</b><br/><span style=\"font-size:85%;\"><a href=\"/wiki/East_York\" title=\"East York\">East York</a><br/>(<a href=\"/wiki/Leaside\" title=\"Leaside\">Leaside</a>)</span>\n",
       "</p>\n",
       "</td>\n",
       "<td style=\"vertical-align:top;\">\n",
       "<p><b>M5G</b><br/><span style=\"font-size:85%;\"><a href=\"/wiki/Downtown_Toronto\" title=\"Downtown Toronto\">Downtown Toronto</a><br/>(Central <a href=\"/wiki/Bay_Street\" title=\"Bay Street\">Bay Street</a>)</span>\n",
       "</p>\n",
       "</td>\n",
       "<td style=\"vertical-align:top;\">\n",
       "<p><b>M6G</b><br/><span style=\"font-size:85%;\"><a href=\"/wiki/Downtown_Toronto\" title=\"Downtown Toronto\">Downtown Toronto</a><br/>(Christie)</span>\n",
       "</p>\n",
       "</td>\n",
       "<td style=\"vertical-align:top; color:#ccc;\">\n",
       "<p><b>M7G</b><br/><span style=\"font-size:85%;\"><i>Not assigned</i></span>\n",
       "</p>\n",
       "</td>\n",
       "<td style=\"vertical-align:top; color:#ccc;\">\n",
       "<p><b>M8G</b><br/><span style=\"font-size:85%;\"><i>Not assigned</i></span>\n",
       "</p>\n",
       "</td>\n",
       "<td style=\"vertical-align:top; color:#ccc;\">\n",
       "<p><b>M9G</b><br/><span style=\"font-size:85%;\"><i>Not assigned</i></span>\n",
       "</p>\n",
       "</td></tr>\n",
       "<tr>\n",
       "<td style=\"vertical-align:top;\">\n",
       "<p><b>M1H</b><br/><span style=\"font-size:85%;\"><a href=\"/wiki/Scarborough,_Toronto\" title=\"Scarborough, Toronto\">Scarborough</a><br/>(<a href=\"/wiki/Woburn,_Toronto\" title=\"Woburn, Toronto\">Cedarbrae</a>)</span>\n",
       "</p>\n",
       "</td>\n",
       "<td style=\"vertical-align:top;\">\n",
       "<p><b>M2H</b><br/><span style=\"font-size:85%;\"><a href=\"/wiki/North_York\" title=\"North York\">North York</a><br/>(<a href=\"/wiki/Hillcrest_Village\" title=\"Hillcrest Village\">Hillcrest Village</a>)</span>\n",
       "</p>\n",
       "</td>\n",
       "<td style=\"vertical-align:top;\">\n",
       "<p><b>M3H</b><br/><span style=\"font-size:85%;\"><a href=\"/wiki/North_York\" title=\"North York\">North York</a><br/>(<a href=\"/wiki/Bathurst_Manor\" title=\"Bathurst Manor\">Bathurst Manor</a> / <a class=\"mw-redirect\" href=\"/wiki/Wilson_Heights,_Toronto\" title=\"Wilson Heights, Toronto\">Wilson Heights</a> / <a href=\"/wiki/Downsview\" title=\"Downsview\">Downsview</a> North)</span>\n",
       "</p>\n",
       "</td>\n",
       "<td style=\"vertical-align:top;\">\n",
       "<p><b>M4H</b><br/><span style=\"font-size:85%;\"><a href=\"/wiki/East_York\" title=\"East York\">East York</a><br/>(<a href=\"/wiki/Thorncliffe_Park\" title=\"Thorncliffe Park\">Thorncliffe Park</a>)</span>\n",
       "</p>\n",
       "</td>\n",
       "<td style=\"vertical-align:top;\">\n",
       "<p><b>M5H</b><br/><span style=\"font-size:85%;\"><a href=\"/wiki/Downtown_Toronto\" title=\"Downtown Toronto\">Downtown Toronto</a><br/>(<a class=\"mw-redirect\" href=\"/wiki/Richmond_Street\" title=\"Richmond Street\">Richmond</a> / Adelaide / <a href=\"/wiki/King_Street_(Toronto)\" title=\"King Street (Toronto)\">King</a>)</span>\n",
       "</p>\n",
       "</td>\n",
       "<td style=\"vertical-align:top;\">\n",
       "<p><b>M6H</b><br/><span style=\"font-size:85%;\">West Toronto<br/>(<a href=\"/wiki/Dufferin_Street\" title=\"Dufferin Street\">Dufferin</a> / <a class=\"mw-redirect\" href=\"/wiki/Dovercourt_Village\" title=\"Dovercourt Village\">Dovercourt Village</a>)</span>\n",
       "</p>\n",
       "</td>\n",
       "<td style=\"vertical-align:top; color:#ccc;\">\n",
       "<p><b>M7H</b><br/><span style=\"font-size:85%;\"><i>Not assigned</i></span>\n",
       "</p>\n",
       "</td>\n",
       "<td style=\"vertical-align:top; color:#ccc;\">\n",
       "<p><b>M8H</b><br/><span style=\"font-size:85%;\"><i>Not assigned</i></span>\n",
       "</p>\n",
       "</td>\n",
       "<td style=\"vertical-align:top; color:#ccc;\">\n",
       "<p><b>M9H</b><br/><span style=\"font-size:85%;\"><i>Not assigned</i></span>\n",
       "</p>\n",
       "</td></tr>\n",
       "<tr>\n",
       "<td style=\"vertical-align:top;\">\n",
       "<p><b>M1J</b><br/><span style=\"font-size:85%;\"><a href=\"/wiki/Scarborough,_Toronto\" title=\"Scarborough, Toronto\">Scarborough</a><br/>(<a href=\"/wiki/Scarborough_Village\" title=\"Scarborough Village\">Scarborough Village</a>)</span>\n",
       "</p>\n",
       "</td>\n",
       "<td style=\"vertical-align:top;\">\n",
       "<p><b>M2J</b><br/><span style=\"font-size:85%;\"><a href=\"/wiki/North_York\" title=\"North York\">North York</a><br/>(Fairview / <a href=\"/wiki/Henry_Farm\" title=\"Henry Farm\">Henry Farm</a> / Oriole)</span>\n",
       "</p>\n",
       "</td>\n",
       "<td style=\"vertical-align:top;\">\n",
       "<p><b>M3J</b><br/><span style=\"font-size:85%;\"><a href=\"/wiki/North_York\" title=\"North York\">North York</a><br/>(<a href=\"/wiki/York_University_Heights\" title=\"York University Heights\">Northwood Park</a> / <a href=\"/wiki/York_University\" title=\"York University\">York University</a>)</span>\n",
       "</p>\n",
       "</td>\n",
       "<td style=\"vertical-align:top;\">\n",
       "<p><b>M4J</b><br/><span style=\"font-size:85%;\"><a href=\"/wiki/East_York\" title=\"East York\">East York</a><br/>East Toronto<br/>(<a class=\"mw-redirect\" href=\"/wiki/The_Danforth\" title=\"The Danforth\">The Danforth</a> <br/> East)</span>\n",
       "</p>\n",
       "</td>\n",
       "<td style=\"vertical-align:top;\">\n",
       "<p><b>M5J</b><br/><span style=\"font-size:85%;\"><a href=\"/wiki/Downtown_Toronto\" title=\"Downtown Toronto\">Downtown Toronto</a><br/>(<a class=\"mw-redirect\" href=\"/wiki/Harbourfront_(Toronto)\" title=\"Harbourfront (Toronto)\">Harbourfront</a> East / <a href=\"/wiki/Union_Station_(Toronto)\" title=\"Union Station (Toronto)\">Union Station</a> / <a href=\"/wiki/Toronto_Islands\" title=\"Toronto Islands\">Toronto Islands</a>)</span>\n",
       "</p>\n",
       "</td>\n",
       "<td style=\"vertical-align:top;\">\n",
       "<p><b>M6J</b><br/><span style=\"font-size:85%;\">West Toronto<br/>(<a href=\"/wiki/Little_Portugal,_Toronto\" title=\"Little Portugal, Toronto\">Little Portugal</a> / <a class=\"mw-redirect\" href=\"/wiki/Trinity%E2%80%93Bellwoods\" title=\"Trinity–Bellwoods\">Trinity</a>)</span>\n",
       "</p>\n",
       "</td>\n",
       "<td style=\"vertical-align:top; color:#ccc;\">\n",
       "<p><b>M7J</b><br/><span style=\"font-size:85%;\"><i>Not assigned</i></span>\n",
       "</p>\n",
       "</td>\n",
       "<td style=\"vertical-align:top; color:#ccc;\">\n",
       "<p><b>M8J</b><br/><span style=\"font-size:85%;\"><i>Not assigned</i></span>\n",
       "</p>\n",
       "</td>\n",
       "<td style=\"vertical-align:top; color:#ccc;\">\n",
       "<p><b>M9J</b><br/><span style=\"font-size:85%;\"><i>Not assigned</i></span>\n",
       "</p>\n",
       "</td></tr>\n",
       "<tr>\n",
       "<td style=\"vertical-align:top;\">\n",
       "<p><b>M1K</b><br/><span style=\"font-size:85%;\"><a href=\"/wiki/Scarborough,_Toronto\" title=\"Scarborough, Toronto\">Scarborough</a><br/>(<a class=\"mw-redirect\" href=\"/wiki/Kennedy_Park,_Toronto\" title=\"Kennedy Park, Toronto\">Kennedy Park</a> / <a href=\"/wiki/Ionview\" title=\"Ionview\">Ionview</a> / East <a class=\"mw-redirect\" href=\"/wiki/Birchmount_Park\" title=\"Birchmount Park\">Birchmount Park</a>)</span>\n",
       "</p>\n",
       "</td>\n",
       "<td style=\"vertical-align:top;\">\n",
       "<p><b>M2K</b><br/><span style=\"font-size:85%;\"><a href=\"/wiki/North_York\" title=\"North York\">North York</a><br/>(<a href=\"/wiki/Bayview_Village\" title=\"Bayview Village\">Bayview Village</a>)</span>\n",
       "</p>\n",
       "</td>\n",
       "<td style=\"vertical-align:top;\">\n",
       "<p><b>M3K</b><br/><span style=\"font-size:85%;\"><a href=\"/wiki/North_York\" title=\"North York\">North York</a><br/>(<a href=\"/wiki/Downsview\" title=\"Downsview\">Downsview</a>)<br/>East <br/> (<a class=\"mw-redirect\" href=\"/wiki/Canadian_Forces_Base_Toronto\" title=\"Canadian Forces Base Toronto\">CFB Toronto</a>)</span>\n",
       "</p>\n",
       "</td>\n",
       "<td style=\"vertical-align:top;\">\n",
       "<p><b>M4K</b><br/><span style=\"font-size:85%;\">East Toronto<br/>(<a class=\"mw-redirect\" href=\"/wiki/The_Danforth\" title=\"The Danforth\">The Danforth</a> West / <a href=\"/wiki/Riverdale,_Toronto\" title=\"Riverdale, Toronto\">Riverdale</a>)</span>\n",
       "</p>\n",
       "</td>\n",
       "<td style=\"vertical-align:top;\">\n",
       "<p><b>M5K</b><br/><span style=\"font-size:85%;\"><a href=\"/wiki/Downtown_Toronto\" title=\"Downtown Toronto\">Downtown Toronto</a><br/>(<a class=\"mw-redirect\" href=\"/wiki/Toronto_Dominion_Centre\" title=\"Toronto Dominion Centre\">Toronto Dominion Centre</a> / <a href=\"/wiki/Design_Exchange\" title=\"Design Exchange\">Design Exchange</a>)</span>\n",
       "</p>\n",
       "</td>\n",
       "<td style=\"vertical-align:top;\">\n",
       "<p><b>M6K</b><br/><span style=\"font-size:85%;\">West Toronto<br/>(<a class=\"mw-redirect\" href=\"/wiki/Brockton,_Toronto\" title=\"Brockton, Toronto\">Brockton</a> / <a class=\"mw-redirect\" href=\"/wiki/Parkdale_Village\" title=\"Parkdale Village\">Parkdale Village</a> / <a href=\"/wiki/Exhibition_Place\" title=\"Exhibition Place\">Exhibition Place</a>)</span>\n",
       "</p>\n",
       "</td>\n",
       "<td style=\"vertical-align:top; color:#ccc;\">\n",
       "<p><b>M7K</b><br/><span style=\"font-size:85%;\"><i>Not assigned</i></span>\n",
       "</p>\n",
       "</td>\n",
       "<td style=\"vertical-align:top; color:#ccc;\">\n",
       "<p><b>M8K</b><br/><span style=\"font-size:85%;\"><i>Not assigned</i></span>\n",
       "</p>\n",
       "</td>\n",
       "<td style=\"vertical-align:top; color:#ccc;\">\n",
       "<p><b>M9K</b><br/><span style=\"font-size:85%;\"><i>Not assigned</i></span>\n",
       "</p>\n",
       "</td></tr>\n",
       "<tr>\n",
       "<td style=\"vertical-align:top;\">\n",
       "<p><b>M1L</b><br/><span style=\"font-size:85%;\"><a href=\"/wiki/Scarborough,_Toronto\" title=\"Scarborough, Toronto\">Scarborough</a><br/>(<a href=\"/wiki/Golden_Mile,_Toronto\" title=\"Golden Mile, Toronto\">Golden Mile</a> / <a href=\"/wiki/Clairlea\" title=\"Clairlea\">Clairlea</a> / <a href=\"/wiki/Oakridge,_Toronto\" title=\"Oakridge, Toronto\">Oakridge</a>)</span>\n",
       "</p>\n",
       "</td>\n",
       "<td style=\"vertical-align:top;\">\n",
       "<p><b>M2L</b><br/><span style=\"font-size:85%;\"><a href=\"/wiki/North_York\" title=\"North York\">North York</a><br/>(<a href=\"/wiki/York_Mills\" title=\"York Mills\">York Mills</a> / Silver Hills)</span>\n",
       "</p>\n",
       "</td>\n",
       "<td style=\"vertical-align:top;\">\n",
       "<p><b>M3L</b><br/><span style=\"font-size:85%;\"><a href=\"/wiki/North_York\" title=\"North York\">North York</a><br/>(<a href=\"/wiki/Downsview\" title=\"Downsview\">Downsview</a>)<br/>West</span>\n",
       "</p>\n",
       "</td>\n",
       "<td style=\"vertical-align:top;\">\n",
       "<p><b>M4L</b><br/><span style=\"font-size:85%;\">East Toronto<br/>(<a href=\"/wiki/Gerrard_Street_(Toronto)\" title=\"Gerrard Street (Toronto)\">India Bazaar</a> / <a href=\"/wiki/The_Beaches\" title=\"The Beaches\">The Beaches</a> West)</span>\n",
       "</p>\n",
       "</td>\n",
       "<td style=\"vertical-align:top;\">\n",
       "<p><b>M5L</b><br/><span style=\"font-size:85%;\"><a href=\"/wiki/Downtown_Toronto\" title=\"Downtown Toronto\">Downtown Toronto</a><br/>(<a href=\"/wiki/Commerce_Court\" title=\"Commerce Court\">Commerce Court</a> / <a href=\"/wiki/Hotel_Victoria_(Toronto)\" title=\"Hotel Victoria (Toronto)\">Victoria Hotel</a>)</span>\n",
       "</p>\n",
       "</td>\n",
       "<td style=\"vertical-align:top;\">\n",
       "<p><b>M6L</b><br/><span style=\"font-size:85%;\"><a href=\"/wiki/North_York\" title=\"North York\">North York</a><br/>(North Park / <a href=\"/wiki/Maple_Leaf,_Toronto\" title=\"Maple Leaf, Toronto\">Maple Leaf Park</a> / Upwood Park)</span>\n",
       "</p>\n",
       "</td>\n",
       "<td style=\"vertical-align:top; color:#ccc;\">\n",
       "<p><b>M7L</b><br/><span style=\"font-size:85%;\"><i>Not assigned</i></span>\n",
       "</p>\n",
       "</td>\n",
       "<td style=\"vertical-align:top; color:#ccc;\">\n",
       "<p><b>M8L</b><br/><span style=\"font-size:85%;\"><i>Not assigned</i></span>\n",
       "</p>\n",
       "</td>\n",
       "<td style=\"vertical-align:top;\">\n",
       "<p><b>M9L</b><br/><span style=\"font-size:85%;\"><a href=\"/wiki/North_York\" title=\"North York\">North York</a><br/>(<a href=\"/wiki/Humber_Summit\" title=\"Humber Summit\">Humber Summit</a>)</span>\n",
       "</p>\n",
       "</td></tr>\n",
       "<tr>\n",
       "<td style=\"vertical-align:top;\">\n",
       "<p><b>M1M</b><br/><span style=\"font-size:85%;\"><a href=\"/wiki/Scarborough,_Toronto\" title=\"Scarborough, Toronto\">Scarborough</a><br/>(<a href=\"/wiki/Cliffside,_Toronto\" title=\"Cliffside, Toronto\">Cliffside</a> / <a href=\"/wiki/Cliffcrest\" title=\"Cliffcrest\">Cliffcrest</a> / <a href=\"/wiki/Scarborough_Village\" title=\"Scarborough Village\">Scarborough Village</a> West)</span>\n",
       "</p>\n",
       "</td>\n",
       "<td style=\"vertical-align:top;\">\n",
       "<p><b>M2M</b><br/><span style=\"font-size:85%;\"><a href=\"/wiki/North_York\" title=\"North York\">North York</a><br/>(Willowdale / <a href=\"/wiki/Newtonbrook\" title=\"Newtonbrook\">Newtonbrook</a>)</span>\n",
       "</p>\n",
       "</td>\n",
       "<td style=\"vertical-align:top;\">\n",
       "<p><b>M3M</b><br/><span style=\"font-size:85%;\"><a href=\"/wiki/North_York\" title=\"North York\">North York</a><br/>(<a href=\"/wiki/Downsview\" title=\"Downsview\">Downsview</a>)<br/>Central</span>\n",
       "</p>\n",
       "</td>\n",
       "<td style=\"vertical-align:top;\">\n",
       "<p><b>M4M</b><br/><span style=\"font-size:85%;\">East Toronto<br/>(Studio District)</span>\n",
       "</p>\n",
       "</td>\n",
       "<td style=\"vertical-align:top;\">\n",
       "<p><b>M5M</b><br/><span style=\"font-size:85%;\"><a href=\"/wiki/North_York\" title=\"North York\">North York</a><br/>(<a href=\"/wiki/Bedford_Park,_Toronto\" title=\"Bedford Park, Toronto\">Bedford Park</a> / <a href=\"/wiki/Lawrence_Manor\" title=\"Lawrence Manor\">Lawrence Manor</a> East)</span>\n",
       "</p>\n",
       "</td>\n",
       "<td style=\"vertical-align:top;\">\n",
       "<p><b>M6M</b><br/><span style=\"font-size:85%;\"><a href=\"/wiki/York,_Toronto\" title=\"York, Toronto\">York</a><br/>(Del Ray / <a href=\"/wiki/Mount_Dennis\" title=\"Mount Dennis\">Mount Dennis</a> / <a href=\"/wiki/Silverthorn,_Toronto\" title=\"Silverthorn, Toronto\">Keelsdale and Silverthorn</a>)</span>\n",
       "</p>\n",
       "</td>\n",
       "<td style=\"vertical-align:top; color:#ccc;\">\n",
       "<p><b>M7M</b><br/><span style=\"font-size:85%;\"><i>Not assigned</i></span>\n",
       "</p>\n",
       "</td>\n",
       "<td style=\"vertical-align:top; color:#ccc;\">\n",
       "<p><b>M8M</b><br/><span style=\"font-size:85%;\"><i>Not assigned</i></span>\n",
       "</p>\n",
       "</td>\n",
       "<td style=\"vertical-align:top;\">\n",
       "<p><b>M9M</b><br/><span style=\"font-size:85%;\"><a href=\"/wiki/North_York\" title=\"North York\">North York</a><br/>(<a class=\"mw-redirect\" href=\"/wiki/Humberlea\" title=\"Humberlea\">Humberlea</a> / <a class=\"mw-redirect\" href=\"/wiki/Emery,_Toronto\" title=\"Emery, Toronto\">Emery</a>)</span>\n",
       "</p>\n",
       "</td></tr>\n",
       "<tr>\n",
       "<td style=\"vertical-align:top;\">\n",
       "<p><b>M1N</b><br/><span style=\"font-size:85%;\"><a href=\"/wiki/Scarborough,_Toronto\" title=\"Scarborough, Toronto\">Scarborough</a><br/>(<a href=\"/wiki/Birch_Cliff\" title=\"Birch Cliff\">Birch Cliff</a> / <a href=\"/wiki/Cliffside,_Toronto\" title=\"Cliffside, Toronto\">Cliffside</a> West)</span>\n",
       "</p>\n",
       "</td>\n",
       "<td style=\"vertical-align:top;\">\n",
       "<p><b>M2N</b><br/><span style=\"font-size:85%;\"><a href=\"/wiki/North_York\" title=\"North York\">North York</a><br/>(<a href=\"/wiki/Willowdale,_Toronto\" title=\"Willowdale, Toronto\">Willowdale</a>)<br/>South</span>\n",
       "</p>\n",
       "</td>\n",
       "<td style=\"vertical-align:top;\">\n",
       "<p><b>M3N</b><br/><span style=\"font-size:85%;\"><a href=\"/wiki/North_York\" title=\"North York\">North York</a><br/>(<a href=\"/wiki/Downsview\" title=\"Downsview\">Downsview</a>)<br/>Northwest</span>\n",
       "</p>\n",
       "</td>\n",
       "<td style=\"vertical-align:top;\">\n",
       "<p><b>M4N</b><br/><span style=\"font-size:85%;\">Central Toronto<br/>(<a href=\"/wiki/Lawrence_Park,_Toronto\" title=\"Lawrence Park, Toronto\">Lawrence Park</a>)</span>\n",
       "</p>\n",
       "</td>\n",
       "<td style=\"vertical-align:top;\">\n",
       "<p><b>M5N</b><br/><span style=\"font-size:85%;\">Central Toronto<br/>(Roselawn)</span>\n",
       "</p>\n",
       "</td>\n",
       "<td style=\"vertical-align:top;\">\n",
       "<p><b>M6N</b><br/><span style=\"font-size:85%;\"><a href=\"/wiki/York,_Toronto\" title=\"York, Toronto\">York</a><br/>(<a href=\"/wiki/Runnymede,_Toronto\" title=\"Runnymede, Toronto\">Runnymede</a> / <a href=\"/wiki/The_Junction\" title=\"The Junction\">The Junction</a> North)</span>\n",
       "</p>\n",
       "</td>\n",
       "<td style=\"vertical-align:top; color:#ccc;\">\n",
       "<p><b>M7N</b><br/><span style=\"font-size:85%;\"><i>Not assigned</i></span>\n",
       "</p>\n",
       "</td>\n",
       "<td style=\"vertical-align:top; color:#ccc;\">\n",
       "<p><b>M8N</b><br/><span style=\"font-size:85%;\"><i>Not assigned</i></span>\n",
       "</p>\n",
       "</td>\n",
       "<td style=\"vertical-align:top;\">\n",
       "<p><b>M9N</b><br/><span style=\"font-size:85%;\"><a href=\"/wiki/York,_Toronto\" title=\"York, Toronto\">York</a><br/>(<a href=\"/wiki/Weston,_Toronto\" title=\"Weston, Toronto\">Weston</a>)</span>\n",
       "</p>\n",
       "</td></tr>\n",
       "<tr>\n",
       "<td style=\"vertical-align:top;\">\n",
       "<p><b>M1P</b><br/><span style=\"font-size:85%;\"><a href=\"/wiki/Scarborough,_Toronto\" title=\"Scarborough, Toronto\">Scarborough</a><br/>(<a href=\"/wiki/Dorset_Park\" title=\"Dorset Park\">Dorset Park</a> / <a class=\"mw-redirect\" href=\"/wiki/Wexford_Heights\" title=\"Wexford Heights\">Wexford Heights</a> / <a href=\"/wiki/Scarborough_Town_Centre\" title=\"Scarborough Town Centre\">Scarborough Town Centre</a>)</span>\n",
       "</p>\n",
       "</td>\n",
       "<td style=\"vertical-align:top;\">\n",
       "<p><b>M2P</b><br/><span style=\"font-size:85%;\"><a href=\"/wiki/North_York\" title=\"North York\">North York</a><br/>(<a href=\"/wiki/York_Mills\" title=\"York Mills\">York Mills</a> West)</span>\n",
       "</p>\n",
       "</td>\n",
       "<td style=\"vertical-align:top; color:#ccc;\">\n",
       "<p><b>M3P</b><br/><span style=\"font-size:85%;\"><i>Not assigned</i></span>\n",
       "</p>\n",
       "</td>\n",
       "<td style=\"vertical-align:top;\">\n",
       "<p><b>M4P</b><br/><span style=\"font-size:85%;\">Central Toronto<br/>(<a href=\"/wiki/Davisville_Village\" title=\"Davisville Village\">Davisville</a> North)</span>\n",
       "</p>\n",
       "</td>\n",
       "<td style=\"vertical-align:top;\">\n",
       "<p><b>M5P</b><br/><span style=\"font-size:85%;\">Central Toronto<br/>(<a href=\"/wiki/Forest_Hill,_Toronto\" title=\"Forest Hill, Toronto\">Forest Hill</a> North &amp; West)</span>\n",
       "</p>\n",
       "</td>\n",
       "<td style=\"vertical-align:top;\">\n",
       "<p><b>M6P</b><br/><span style=\"font-size:85%;\">West Toronto<br/>(<a href=\"/wiki/High_Park\" title=\"High Park\">High Park</a> / <a href=\"/wiki/The_Junction\" title=\"The Junction\">The Junction</a> South)</span>\n",
       "</p>\n",
       "</td>\n",
       "<td style=\"vertical-align:top; color:#ccc;\">\n",
       "<p><b>M7P</b><br/><span style=\"font-size:85%;\"><i>Not assigned</i></span>\n",
       "</p>\n",
       "</td>\n",
       "<td style=\"vertical-align:top; color:#ccc;\">\n",
       "<p><b>M8P</b><br/><span style=\"font-size:85%;\"><i>Not assigned</i></span>\n",
       "</p>\n",
       "</td>\n",
       "<td style=\"vertical-align:top;\">\n",
       "<p><b>M9P</b><br/><span style=\"font-size:85%;\"><a href=\"/wiki/Etobicoke\" title=\"Etobicoke\">Etobicoke</a><br/>(Westmount)</span>\n",
       "</p>\n",
       "</td></tr>\n",
       "<tr>\n",
       "<td style=\"vertical-align:top;\">\n",
       "<p><b>M1R</b><br/><span style=\"font-size:85%;\"><a href=\"/wiki/Scarborough,_Toronto\" title=\"Scarborough, Toronto\">Scarborough</a><br/>(<a href=\"/wiki/Wexford,_Toronto\" title=\"Wexford, Toronto\">Wexford</a> / <a href=\"/wiki/Maryvale,_Toronto\" title=\"Maryvale, Toronto\">Maryvale</a>)</span>\n",
       "</p>\n",
       "</td>\n",
       "<td style=\"vertical-align:top;\">\n",
       "<p><b>M2R</b><br/><span style=\"font-size:85%;\"><a href=\"/wiki/North_York\" title=\"North York\">North York</a><br/>(<a href=\"/wiki/Willowdale,_Toronto\" title=\"Willowdale, Toronto\">Willowdale</a>)<br/>West</span>\n",
       "</p>\n",
       "</td>\n",
       "<td style=\"vertical-align:top; color:#ccc;\">\n",
       "<p><b>M3R</b><br/><span style=\"font-size:85%;\"><i>Not assigned</i></span>\n",
       "</p>\n",
       "</td>\n",
       "<td style=\"vertical-align:top;\">\n",
       "<p><b>M4R</b><br/><span style=\"font-size:85%;\">Central Toronto<br/>(<a href=\"/wiki/North_Toronto\" title=\"North Toronto\">North Toronto</a> West)</span>\n",
       "</p>\n",
       "</td>\n",
       "<td style=\"vertical-align:top;\">\n",
       "<p><b>M5R</b><br/><span style=\"font-size:85%;\">Central Toronto<br/>(<a href=\"/wiki/The_Annex\" title=\"The Annex\">The Annex</a> / <a class=\"mw-redirect\" href=\"/wiki/North_Midtown,_Toronto\" title=\"North Midtown, Toronto\">North Midtown</a> / <a href=\"/wiki/Yorkville,_Toronto\" title=\"Yorkville, Toronto\">Yorkville</a>)</span>\n",
       "</p>\n",
       "</td>\n",
       "<td style=\"vertical-align:top;\">\n",
       "<p><b>M6R</b><br/><span style=\"font-size:85%;\">West Toronto<br/>(<a href=\"/wiki/Parkdale,_Toronto\" title=\"Parkdale, Toronto\">Parkdale</a> / <a href=\"/wiki/Roncesvalles,_Toronto\" title=\"Roncesvalles, Toronto\">Roncesvalles</a>)</span>\n",
       "</p>\n",
       "</td>\n",
       "<td style=\"vertical-align:top;\">\n",
       "<p><b>M7R</b><br/><span style=\"font-size:85%;\"><a href=\"/wiki/Mississauga\" title=\"Mississauga\">Mississauga</a><br/>Canada Post Gateway Processing Centre<br/>(Enclave of L4W)</span>\n",
       "</p>\n",
       "</td>\n",
       "<td style=\"vertical-align:top; color:#ccc;\">\n",
       "<p><b>M8R</b><br/><span style=\"font-size:85%;\"><i>Not assigned</i></span>\n",
       "</p>\n",
       "</td>\n",
       "<td style=\"vertical-align:top;\">\n",
       "<p><b>M9R</b><br/><span style=\"font-size:85%;\"><a href=\"/wiki/Etobicoke\" title=\"Etobicoke\">Etobicoke</a><br/>(<a href=\"/wiki/Kingsview_Village\" title=\"Kingsview Village\">Kingsview Village</a> / St. Phillips / Martin Grove Gardens / Richview Gardens)</span>\n",
       "</p>\n",
       "</td></tr>\n",
       "<tr>\n",
       "<td style=\"vertical-align:top;\">\n",
       "<p><b>M1S</b><br/><span style=\"font-size:85%;\"><a href=\"/wiki/Scarborough,_Toronto\" title=\"Scarborough, Toronto\">Scarborough</a><br/>(<a href=\"/wiki/Agincourt,_Toronto\" title=\"Agincourt, Toronto\">Agincourt</a>) </span>\n",
       "</p>\n",
       "</td>\n",
       "<td style=\"vertical-align:top; color:#ccc;\">\n",
       "<p><b>M2S</b><br/><span style=\"font-size:85%;\"><i>Not assigned</i></span>\n",
       "</p>\n",
       "</td>\n",
       "<td style=\"vertical-align:top; color:#ccc;\">\n",
       "<p><b>M3S</b><br/><span style=\"font-size:85%;\"><i>Not assigned</i></span>\n",
       "</p>\n",
       "</td>\n",
       "<td style=\"vertical-align:top;\">\n",
       "<p><b>M4S</b><br/><span style=\"font-size:85%;\">Central Toronto<br/>(<a href=\"/wiki/Davisville_Village\" title=\"Davisville Village\">Davisville</a>)</span>\n",
       "</p>\n",
       "</td>\n",
       "<td style=\"vertical-align:top;\">\n",
       "<p><b>M5S</b><br/><span style=\"font-size:85%;\"><a href=\"/wiki/Downtown_Toronto\" title=\"Downtown Toronto\">Downtown Toronto</a><br/>(<a href=\"/wiki/University_of_Toronto\" title=\"University of Toronto\">University of Toronto</a> / Harbord)</span>\n",
       "</p>\n",
       "</td>\n",
       "<td style=\"vertical-align:top;\">\n",
       "<p><b>M6S</b><br/><span style=\"font-size:85%;\">West Toronto<br/>(<a href=\"/wiki/Runnymede,_Toronto\" title=\"Runnymede, Toronto\">Runnymede</a> / <a href=\"/wiki/Swansea,_Toronto\" title=\"Swansea, Toronto\">Swansea</a>)</span>\n",
       "</p>\n",
       "</td>\n",
       "<td style=\"vertical-align:top; color:#ccc;\">\n",
       "<p><b>M7S</b><br/><span style=\"font-size:85%;\"><i>Not assigned</i></span>\n",
       "</p>\n",
       "</td>\n",
       "<td style=\"vertical-align:top; color:#ccc;\">\n",
       "<p><b>M8S</b><br/><span style=\"font-size:85%;\"><i>Not assigned</i></span>\n",
       "</p>\n",
       "</td>\n",
       "<td style=\"vertical-align:top; color:#ccc;\">\n",
       "<p><b>M9S</b><br/><span style=\"font-size:85%;\"><i>Not assigned</i></span>\n",
       "</p>\n",
       "</td></tr>\n",
       "<tr>\n",
       "<td style=\"vertical-align:top;\">\n",
       "<p><b>M1T</b><br/><span style=\"font-size:85%;\"><a href=\"/wiki/Scarborough,_Toronto\" title=\"Scarborough, Toronto\">Scarborough</a><br/>(Clarks Corners / <a class=\"mw-redirect\" href=\"/wiki/Tam_O%27Shanter,_Ontario\" title=\"Tam O'Shanter, Ontario\">Tam O'Shanter</a> / <a class=\"mw-redirect\" href=\"/wiki/Sullivan,_Toronto\" title=\"Sullivan, Toronto\">Sullivan</a>)</span>\n",
       "</p>\n",
       "</td>\n",
       "<td style=\"vertical-align:top; color:#ccc;\">\n",
       "<p><b>M2T</b><br/><span style=\"font-size:85%;\"><i>Not assigned</i></span>\n",
       "</p>\n",
       "</td>\n",
       "<td style=\"vertical-align:top; color:#ccc;\">\n",
       "<p><b>M3T</b><br/><span style=\"font-size:85%;\"><i>Not assigned</i></span>\n",
       "</p>\n",
       "</td>\n",
       "<td style=\"vertical-align:top;\">\n",
       "<p><b>M4T</b><br/><span style=\"font-size:85%;\">Central Toronto<br/>(<a href=\"/wiki/Moore_Park,_Toronto\" title=\"Moore Park, Toronto\">Moore Park</a> / <a href=\"/wiki/Summerhill,_Toronto\" title=\"Summerhill, Toronto\">Summerhill</a> East)</span>\n",
       "</p>\n",
       "</td>\n",
       "<td style=\"vertical-align:top;\">\n",
       "<p><b>M5T</b><br/><span style=\"font-size:85%;\"><a href=\"/wiki/Downtown_Toronto\" title=\"Downtown Toronto\">Downtown Toronto</a><br/>(<a href=\"/wiki/Kensington_Market\" title=\"Kensington Market\">Kensington Market</a> / <a href=\"/wiki/Chinatown,_Toronto\" title=\"Chinatown, Toronto\">Chinatown</a> / <a href=\"/wiki/Grange_Park_(Toronto)\" title=\"Grange Park (Toronto)\">Grange Park</a>)</span>\n",
       "</p>\n",
       "</td>\n",
       "<td style=\"vertical-align:top; color:#ccc;\">\n",
       "<p><b>M6T</b><br/><span style=\"font-size:85%;\"><i>Not assigned</i></span>\n",
       "</p>\n",
       "</td>\n",
       "<td style=\"vertical-align:top; color:#ccc;\">\n",
       "<p><b>M7T</b><br/><span style=\"font-size:85%;\"><i>Not assigned</i></span>\n",
       "</p>\n",
       "</td>\n",
       "<td style=\"vertical-align:top; color:#ccc;\">\n",
       "<p><b>M8T</b><br/><span style=\"font-size:85%;\"><i>Not assigned</i></span>\n",
       "</p>\n",
       "</td>\n",
       "<td style=\"vertical-align:top; color:#ccc;\">\n",
       "<p><b>M9T</b><br/><span style=\"font-size:85%;\"><i>Not assigned</i></span>\n",
       "</p>\n",
       "</td></tr>\n",
       "<tr>\n",
       "<td style=\"vertical-align:top;\">\n",
       "<p><b>M1V</b><br/><span style=\"font-size:85%;\"><a href=\"/wiki/Scarborough,_Toronto\" title=\"Scarborough, Toronto\">Scarborough</a><br/>(<a class=\"mw-redirect\" href=\"/wiki/Milliken,_Toronto\" title=\"Milliken, Toronto\">Milliken</a> / <a class=\"mw-redirect\" href=\"/wiki/Agincourt_North\" title=\"Agincourt North\">Agincourt North</a> / <a href=\"/wiki/Steeles,_Toronto\" title=\"Steeles, Toronto\">Steeles</a> East / <a href=\"/wiki/L%27Amoreaux\" title=\"L'Amoreaux\">L'Amoreaux</a> East)</span>\n",
       "</p>\n",
       "</td>\n",
       "<td style=\"vertical-align:top; color:#ccc;\">\n",
       "<p><b>M2V</b><br/><span style=\"font-size:85%;\"><i>Not assigned</i></span>\n",
       "</p>\n",
       "</td>\n",
       "<td style=\"vertical-align:top; color:#ccc;\">\n",
       "<p><b>M3V</b><br/><span style=\"font-size:85%;\"><i>Not assigned</i></span>\n",
       "</p>\n",
       "</td>\n",
       "<td style=\"vertical-align:top;\">\n",
       "<p><b>M4V</b><br/><span style=\"font-size:85%;\">Central Toronto<br/>(<a href=\"/wiki/Summerhill,_Toronto\" title=\"Summerhill, Toronto\">Summerhill</a> West / <a class=\"mw-redirect\" href=\"/wiki/Rathnelly\" title=\"Rathnelly\">Rathnelly</a> / <a href=\"/wiki/South_Hill,_Toronto\" title=\"South Hill, Toronto\">South Hill</a> / <a href=\"/wiki/Forest_Hill,_Toronto\" title=\"Forest Hill, Toronto\">Forest Hill</a> SE / <a href=\"/wiki/Deer_Park,_Toronto\" title=\"Deer Park, Toronto\">Deer Park</a>)</span>\n",
       "</p>\n",
       "</td>\n",
       "<td style=\"vertical-align:top;\">\n",
       "<p><b>M5V</b><br/><span style=\"font-size:85%;\"><a href=\"/wiki/Downtown_Toronto\" title=\"Downtown Toronto\">Downtown Toronto</a><br/>(<a href=\"/wiki/CN_Tower\" title=\"CN Tower\">CN Tower</a> / <a class=\"mw-redirect\" href=\"/wiki/King_and_Spadina\" title=\"King and Spadina\">King and Spadina</a> / <a href=\"/wiki/Railway_Lands\" title=\"Railway Lands\">Railway Lands</a> / <a class=\"mw-redirect\" href=\"/wiki/Harbourfront_(Toronto)\" title=\"Harbourfront (Toronto)\">Harbourfront</a> West / Bathurst Quay / <a class=\"mw-redirect\" href=\"/wiki/South_Niagara\" title=\"South Niagara\">South Niagara</a> / <a href=\"/wiki/Billy_Bishop_Toronto_City_Airport\" title=\"Billy Bishop Toronto City Airport\">Island airport</a>)</span>\n",
       "</p>\n",
       "</td>\n",
       "<td style=\"vertical-align:top; color:#ccc;\">\n",
       "<p><b>M6V</b><br/><span style=\"font-size:85%;\"><i>Not assigned</i></span>\n",
       "</p>\n",
       "</td>\n",
       "<td style=\"vertical-align:top; color:#ccc;\">\n",
       "<p><b>M7V</b><br/><span style=\"font-size:85%;\"><i>Not assigned</i></span>\n",
       "</p>\n",
       "</td>\n",
       "<td style=\"vertical-align:top;\">\n",
       "<p><b>M8V</b><br/><span style=\"font-size:85%;\"><a href=\"/wiki/Etobicoke\" title=\"Etobicoke\">Etobicoke</a><br/>(<a href=\"/wiki/New_Toronto\" title=\"New Toronto\">New Toronto</a> / <a href=\"/wiki/Mimico\" title=\"Mimico\">Mimico</a> South / Humber Bay Shores)</span>\n",
       "</p>\n",
       "</td>\n",
       "<td style=\"vertical-align:top;\">\n",
       "<p><b>M9V</b><br/><span style=\"font-size:85%;\"><a href=\"/wiki/Etobicoke\" title=\"Etobicoke\">Etobicoke</a><br/>(<a class=\"mw-redirect\" href=\"/wiki/South_Steeles\" title=\"South Steeles\">South Steeles</a> / <a class=\"mw-redirect\" href=\"/wiki/Silverstone,_Toronto\" title=\"Silverstone, Toronto\">Silverstone</a> / Humbergate / <a class=\"mw-redirect\" href=\"/wiki/Jamestown,_Toronto\" title=\"Jamestown, Toronto\">Jamestown</a> / <a class=\"mw-redirect\" href=\"/wiki/Mount_Olive,_Toronto\" title=\"Mount Olive, Toronto\">Mount Olive</a> / <a class=\"mw-redirect\" href=\"/wiki/Beaumond_Heights\" title=\"Beaumond Heights\">Beaumond Heights</a> / <a href=\"/wiki/Thistletown\" title=\"Thistletown\">Thistletown</a> / Albion Gardens)</span>\n",
       "</p>\n",
       "</td></tr>\n",
       "<tr>\n",
       "<td style=\"vertical-align:top;\">\n",
       "<p><b>M1W</b><br/><span style=\"font-size:85%;\"><a href=\"/wiki/Scarborough,_Toronto\" title=\"Scarborough, Toronto\">Scarborough</a><br/>(<a href=\"/wiki/Steeles,_Toronto\" title=\"Steeles, Toronto\">Steeles</a> West / <a href=\"/wiki/L%27Amoreaux\" title=\"L'Amoreaux\">L'Amoreaux</a> West)</span>\n",
       "</p>\n",
       "</td>\n",
       "<td style=\"vertical-align:top; color:#ccc;\">\n",
       "<p><b>M2W</b><br/><span style=\"font-size:85%;\"><i>Not assigned</i></span>\n",
       "</p>\n",
       "</td>\n",
       "<td style=\"vertical-align:top; color:#ccc;\">\n",
       "<p><b>M3W</b><br/><span style=\"font-size:85%;\"><i>Not assigned</i></span>\n",
       "</p>\n",
       "</td>\n",
       "<td style=\"vertical-align:top;\">\n",
       "<p><b>M4W</b><br/><span style=\"font-size:85%;\"><a href=\"/wiki/Downtown_Toronto\" title=\"Downtown Toronto\">Downtown Toronto</a><br/>(<a href=\"/wiki/Rosedale,_Toronto\" title=\"Rosedale, Toronto\">Rosedale</a>)</span>\n",
       "</p>\n",
       "</td>\n",
       "<td style=\"vertical-align:top;\">\n",
       "<p><b>M5W</b><br/><span style=\"font-size:85%;\"><a href=\"/wiki/Downtown_Toronto\" title=\"Downtown Toronto\">Downtown Toronto</a><br/>Stn A PO Boxes<br/>25 The Esplanade<br/>(Enclave of M5E)</span>\n",
       "</p>\n",
       "</td>\n",
       "<td style=\"vertical-align:top; color:#ccc;\">\n",
       "<p><b>M6W</b><br/><span style=\"font-size:85%;\"><i>Not assigned</i></span>\n",
       "</p>\n",
       "</td>\n",
       "<td style=\"vertical-align:top; color:#ccc;\">\n",
       "<p><b>M7W</b><br/><span style=\"font-size:85%;\"><i>Not assigned</i></span>\n",
       "</p>\n",
       "</td>\n",
       "<td style=\"vertical-align:top;\">\n",
       "<p><b>M8W</b><br/><span style=\"font-size:85%;\"><a href=\"/wiki/Etobicoke\" title=\"Etobicoke\">Etobicoke</a><br/>(<a href=\"/wiki/Alderwood,_Toronto\" title=\"Alderwood, Toronto\">Alderwood</a> / <a href=\"/wiki/Long_Branch,_Toronto\" title=\"Long Branch, Toronto\">Long Branch</a>)</span>\n",
       "</p>\n",
       "</td>\n",
       "<td style=\"vertical-align:top;\">\n",
       "<p><b>M9W</b><br/><span style=\"font-size:85%;\"><a href=\"/wiki/Etobicoke\" title=\"Etobicoke\">Etobicoke</a><br/>Northwest<br/>(<a class=\"mw-redirect\" href=\"/wiki/Clairville,_Toronto\" title=\"Clairville, Toronto\">Clairville</a> / <a href=\"/wiki/Humberwood\" title=\"Humberwood\">Humberwood</a> / <a class=\"mw-redirect\" href=\"/wiki/Woodbine_Downs\" title=\"Woodbine Downs\">Woodbine Downs</a> / West Humber / Kipling Heights / <a href=\"/wiki/Rexdale\" title=\"Rexdale\">Rexdale</a> / <a class=\"mw-redirect\" href=\"/wiki/Elms,_Toronto\" title=\"Elms, Toronto\">Elms</a> / Tandridge / Old Rexdale)</span>\n",
       "</p>\n",
       "</td></tr>\n",
       "<tr>\n",
       "<td style=\"vertical-align:top;\">\n",
       "<p><b>M1X</b><br/><span style=\"font-size:85%;\"><a href=\"/wiki/Scarborough,_Toronto\" title=\"Scarborough, Toronto\">Scarborough</a><br/>(<a class=\"mw-redirect\" href=\"/wiki/Upper_Rouge\" title=\"Upper Rouge\">Upper Rouge</a>)</span>\n",
       "</p>\n",
       "</td>\n",
       "<td style=\"vertical-align:top; color:#ccc;\">\n",
       "<p><b>M2X</b><br/><span style=\"font-size:85%;\"><i>Not assigned</i></span>\n",
       "</p>\n",
       "</td>\n",
       "<td style=\"vertical-align:top; color:#ccc;\">\n",
       "<p><b>M3X</b><br/><span style=\"font-size:85%;\"><i>Not assigned</i></span>\n",
       "</p>\n",
       "</td>\n",
       "<td style=\"vertical-align:top;\">\n",
       "<p><b>M4X</b><br/><span style=\"font-size:85%;\"><a href=\"/wiki/Downtown_Toronto\" title=\"Downtown Toronto\">Downtown Toronto</a><br/>(<a href=\"/wiki/St._James_Town\" title=\"St. James Town\">St. James Town</a> / <a class=\"mw-redirect\" href=\"/wiki/Cabbagetown_(Toronto)\" title=\"Cabbagetown (Toronto)\">Cabbagetown</a>)</span>\n",
       "</p>\n",
       "</td>\n",
       "<td style=\"vertical-align:top;\">\n",
       "<p><b>M5X</b><br/><span style=\"font-size:85%;\"><a href=\"/wiki/Downtown_Toronto\" title=\"Downtown Toronto\">Downtown Toronto</a><br/>(<a href=\"/wiki/First_Canadian_Place\" title=\"First Canadian Place\">First Canadian Place</a> / <a href=\"/wiki/PATH_(Toronto)\" title=\"PATH (Toronto)\">Underground city</a>)</span>\n",
       "</p>\n",
       "</td>\n",
       "<td style=\"vertical-align:top; color:#ccc;\">\n",
       "<p><b>M6X</b><br/><span style=\"font-size:85%;\"><i>Not assigned</i></span>\n",
       "</p>\n",
       "</td>\n",
       "<td style=\"vertical-align:top; color:#ccc;\">\n",
       "<p><b>M7X</b><br/><span style=\"font-size:85%;\"><i>Not assigned</i></span>\n",
       "</p>\n",
       "</td>\n",
       "<td style=\"vertical-align:top;\">\n",
       "<p><b>M8X</b><br/><span style=\"font-size:85%;\"><a href=\"/wiki/Etobicoke\" title=\"Etobicoke\">Etobicoke</a><br/>(<a href=\"/wiki/The_Kingsway,_Toronto\" title=\"The Kingsway, Toronto\">The Kingsway</a> / Montgomery Road / <a href=\"/wiki/Old_Mill,_Toronto\" title=\"Old Mill, Toronto\">Old Mill</a> North)</span>\n",
       "</p>\n",
       "</td>\n",
       "<td style=\"vertical-align:top; color:#ccc;\">\n",
       "<p><b>M9X</b><br/><span style=\"font-size:85%;\"><i>Not assigned</i></span>\n",
       "</p>\n",
       "</td></tr>\n",
       "<tr>\n",
       "<td style=\"vertical-align:top; color:#ccc;\">\n",
       "<p><b>M1Y</b><br/><span style=\"font-size:85%;\"><i>Not assigned</i></span>\n",
       "</p>\n",
       "</td>\n",
       "<td style=\"vertical-align:top; color:#ccc;\">\n",
       "<p><b>M2Y</b><br/><span style=\"font-size:85%;\"><i>Not assigned</i></span>\n",
       "</p>\n",
       "</td>\n",
       "<td style=\"vertical-align:top; color:#ccc;\">\n",
       "<p><b>M3Y</b><br/><span style=\"font-size:85%;\"><i>Not assigned</i></span>\n",
       "</p>\n",
       "</td>\n",
       "<td style=\"vertical-align:top;\">\n",
       "<p><b>M4Y</b><br/><span style=\"font-size:85%;\"><a href=\"/wiki/Downtown_Toronto\" title=\"Downtown Toronto\">Downtown Toronto</a><br/>(<a href=\"/wiki/Church_and_Wellesley\" title=\"Church and Wellesley\">Church and Wellesley</a>)</span>\n",
       "</p>\n",
       "</td>\n",
       "<td style=\"vertical-align:top; color:#ccc;\">\n",
       "<p><b>M5Y</b><br/><span style=\"font-size:85%;\"><i>Not assigned</i></span>\n",
       "</p>\n",
       "</td>\n",
       "<td style=\"vertical-align:top; color:#ccc;\">\n",
       "<p><b>M6Y</b><br/><span style=\"font-size:85%;\"><i>Not assigned</i></span>\n",
       "</p>\n",
       "</td>\n",
       "<td style=\"vertical-align:top;\">\n",
       "<p><b>M7Y</b><br/><span style=\"font-size:85%;\">East Toronto<br/><a class=\"mw-redirect\" href=\"/wiki/Business_reply_mail\" title=\"Business reply mail\">Business reply mail</a> Processing Centre<br/>969 Eastern<br/>(Enclave of M4L)</span>\n",
       "</p>\n",
       "</td>\n",
       "<td style=\"vertical-align:top;\">\n",
       "<p><b>M8Y</b><br/><span style=\"font-size:85%;\"><a href=\"/wiki/Etobicoke\" title=\"Etobicoke\">Etobicoke</a><br/>(<a href=\"/wiki/Old_Mill,_Toronto\" title=\"Old Mill, Toronto\">Old Mill</a> South / King's Mill Park / <a class=\"mw-redirect\" href=\"/wiki/Sunnylea\" title=\"Sunnylea\">Sunnylea</a> / <a href=\"/wiki/Humber_Bay\" title=\"Humber Bay\">Humber Bay</a> / <a href=\"/wiki/Mimico\" title=\"Mimico\">Mimico</a> NE / <a class=\"mw-redirect\" href=\"/wiki/The_Queensway_(Toronto)\" title=\"The Queensway (Toronto)\">The Queensway</a> East / Royal York South East / Kingsway Park South East)</span>\n",
       "</p>\n",
       "</td>\n",
       "<td style=\"vertical-align:top; color:#ccc;\">\n",
       "<p><b>M9Y</b><br/><span style=\"font-size:85%;\"><i>Not assigned</i></span>\n",
       "</p>\n",
       "</td></tr>\n",
       "<tr>\n",
       "<td style=\"vertical-align:top; color:#ccc;\">\n",
       "<p><b>M1Z</b><br/><span style=\"font-size:85%;\"><i>Not assigned</i></span>\n",
       "</p>\n",
       "</td>\n",
       "<td style=\"vertical-align:top; color:#ccc;\">\n",
       "<p><b>M2Z</b><br/><span style=\"font-size:85%;\"><i>Not assigned</i></span>\n",
       "</p>\n",
       "</td>\n",
       "<td style=\"vertical-align:top; color:#ccc;\">\n",
       "<p><b>M3Z</b><br/><span style=\"font-size:85%;\"><i>Not assigned</i></span>\n",
       "</p>\n",
       "</td>\n",
       "<td style=\"vertical-align:top; color:#ccc;\">\n",
       "<p><b>M4Z</b><br/><span style=\"font-size:85%;\"><i>Not assigned</i></span>\n",
       "</p>\n",
       "</td>\n",
       "<td style=\"vertical-align:top; color:#ccc;\">\n",
       "<p><b>M5Z</b><br/><span style=\"font-size:85%;\"><i>Not assigned</i></span>\n",
       "</p>\n",
       "</td>\n",
       "<td style=\"vertical-align:top; color:#ccc;\">\n",
       "<p><b>M6Z</b><br/><span style=\"font-size:85%;\"><i>Not assigned</i></span>\n",
       "</p>\n",
       "</td>\n",
       "<td style=\"vertical-align:top; color:#ccc;\">\n",
       "<p><b>M7Z</b><br/><span style=\"font-size:85%;\"><i>Not assigned</i></span>\n",
       "</p>\n",
       "</td>\n",
       "<td style=\"vertical-align:top;\">\n",
       "<p><b>M8Z</b><br/><span style=\"font-size:85%;\"><a href=\"/wiki/Etobicoke\" title=\"Etobicoke\">Etobicoke</a><br/>(<a href=\"/wiki/Mimico\" title=\"Mimico\">Mimico</a> NW / <a href=\"/wiki/The_Queensway\" title=\"The Queensway\">The Queensway</a> West / South of Bloor / Kingsway Park South West / Royal York South West)</span>\n",
       "</p>\n",
       "</td>\n",
       "<td style=\"vertical-align:top; color:#ccc;\">\n",
       "<p><b>M9Z</b><br/><span style=\"font-size:85%;\"><i>Not assigned</i></span>\n",
       "</p>\n",
       "</td></tr></tbody></table>"
      ]
     },
     "execution_count": 8,
     "metadata": {},
     "output_type": "execute_result"
    }
   ],
   "source": [
    "table"
   ]
  },
  {
   "cell_type": "code",
   "execution_count": 9,
   "metadata": {},
   "outputs": [],
   "source": [
    "for row in table.findAll('td'):\n",
    "    cell = {}\n",
    "    if row.span.text=='Not assigned':\n",
    "        pass\n",
    "    else:\n",
    "        cell['PostalCode'] = row.p.text[:3]\n",
    "        cell['Borough'] = (row.span.text).split('(')[0]\n",
    "        cell['Neighborhood'] = (((((row.span.text).split('(')[1]).strip(')')).replace(' /',',')).replace(')',' ')).strip(' ')\n",
    "        table_contents.append(cell)"
   ]
  },
  {
   "cell_type": "code",
   "execution_count": 10,
   "metadata": {},
   "outputs": [
    {
     "data": {
      "text/plain": [
       "[{'PostalCode': 'M3A', 'Borough': 'North York', 'Neighborhood': 'Parkwoods'},\n",
       " {'PostalCode': 'M4A',\n",
       "  'Borough': 'North York',\n",
       "  'Neighborhood': 'Victoria Village'},\n",
       " {'PostalCode': 'M5A',\n",
       "  'Borough': 'Downtown Toronto',\n",
       "  'Neighborhood': 'Regent Park, Harbourfront'},\n",
       " {'PostalCode': 'M6A',\n",
       "  'Borough': 'North York',\n",
       "  'Neighborhood': 'Lawrence Manor, Lawrence Heights'},\n",
       " {'PostalCode': 'M7A',\n",
       "  'Borough': \"Queen's Park\",\n",
       "  'Neighborhood': 'Ontario Provincial Government'},\n",
       " {'PostalCode': 'M9A',\n",
       "  'Borough': 'Etobicoke',\n",
       "  'Neighborhood': 'Islington Avenue'},\n",
       " {'PostalCode': 'M1B',\n",
       "  'Borough': 'Scarborough',\n",
       "  'Neighborhood': 'Malvern, Rouge'},\n",
       " {'PostalCode': 'M3B',\n",
       "  'Borough': 'North York',\n",
       "  'Neighborhood': 'Don Mills North'},\n",
       " {'PostalCode': 'M4B',\n",
       "  'Borough': 'East York',\n",
       "  'Neighborhood': 'Parkview Hill, Woodbine Gardens'},\n",
       " {'PostalCode': 'M5B',\n",
       "  'Borough': 'Downtown Toronto',\n",
       "  'Neighborhood': 'Garden District, Ryerson'},\n",
       " {'PostalCode': 'M6B', 'Borough': 'North York', 'Neighborhood': 'Glencairn'},\n",
       " {'PostalCode': 'M9B',\n",
       "  'Borough': 'Etobicoke',\n",
       "  'Neighborhood': 'West Deane Park, Princess Gardens, Martin Grove, Islington, Cloverdale'},\n",
       " {'PostalCode': 'M1C',\n",
       "  'Borough': 'Scarborough',\n",
       "  'Neighborhood': 'Rouge Hill, Port Union, Highland Creek'},\n",
       " {'PostalCode': 'M3C',\n",
       "  'Borough': 'North York',\n",
       "  'Neighborhood': 'Don Mills South'},\n",
       " {'PostalCode': 'M4C',\n",
       "  'Borough': 'East York',\n",
       "  'Neighborhood': 'Woodbine Heights'},\n",
       " {'PostalCode': 'M5C',\n",
       "  'Borough': 'Downtown Toronto',\n",
       "  'Neighborhood': 'St. James Town'},\n",
       " {'PostalCode': 'M6C',\n",
       "  'Borough': 'York',\n",
       "  'Neighborhood': 'Humewood-Cedarvale'},\n",
       " {'PostalCode': 'M9C',\n",
       "  'Borough': 'Etobicoke',\n",
       "  'Neighborhood': 'Eringate, Bloordale Gardens, Old Burnhamthorpe, Markland Wood'},\n",
       " {'PostalCode': 'M1E',\n",
       "  'Borough': 'Scarborough',\n",
       "  'Neighborhood': 'Guildwood, Morningside, West Hill'},\n",
       " {'PostalCode': 'M4E',\n",
       "  'Borough': 'East Toronto',\n",
       "  'Neighborhood': 'The Beaches'},\n",
       " {'PostalCode': 'M5E',\n",
       "  'Borough': 'Downtown Toronto',\n",
       "  'Neighborhood': 'Berczy Park'},\n",
       " {'PostalCode': 'M6E',\n",
       "  'Borough': 'York',\n",
       "  'Neighborhood': 'Caledonia-Fairbanks'},\n",
       " {'PostalCode': 'M1G', 'Borough': 'Scarborough', 'Neighborhood': 'Woburn'},\n",
       " {'PostalCode': 'M4G', 'Borough': 'East York', 'Neighborhood': 'Leaside'},\n",
       " {'PostalCode': 'M5G',\n",
       "  'Borough': 'Downtown Toronto',\n",
       "  'Neighborhood': 'Central Bay Street'},\n",
       " {'PostalCode': 'M6G',\n",
       "  'Borough': 'Downtown Toronto',\n",
       "  'Neighborhood': 'Christie'},\n",
       " {'PostalCode': 'M1H', 'Borough': 'Scarborough', 'Neighborhood': 'Cedarbrae'},\n",
       " {'PostalCode': 'M2H',\n",
       "  'Borough': 'North York',\n",
       "  'Neighborhood': 'Hillcrest Village'},\n",
       " {'PostalCode': 'M3H',\n",
       "  'Borough': 'North York',\n",
       "  'Neighborhood': 'Bathurst Manor, Wilson Heights, Downsview North'},\n",
       " {'PostalCode': 'M4H',\n",
       "  'Borough': 'East York',\n",
       "  'Neighborhood': 'Thorncliffe Park'},\n",
       " {'PostalCode': 'M5H',\n",
       "  'Borough': 'Downtown Toronto',\n",
       "  'Neighborhood': 'Richmond, Adelaide, King'},\n",
       " {'PostalCode': 'M6H',\n",
       "  'Borough': 'West Toronto',\n",
       "  'Neighborhood': 'Dufferin, Dovercourt Village'},\n",
       " {'PostalCode': 'M1J',\n",
       "  'Borough': 'Scarborough',\n",
       "  'Neighborhood': 'Scarborough Village'},\n",
       " {'PostalCode': 'M2J',\n",
       "  'Borough': 'North York',\n",
       "  'Neighborhood': 'Fairview, Henry Farm, Oriole'},\n",
       " {'PostalCode': 'M3J',\n",
       "  'Borough': 'North York',\n",
       "  'Neighborhood': 'Northwood Park, York University'},\n",
       " {'PostalCode': 'M4J',\n",
       "  'Borough': 'East YorkEast Toronto',\n",
       "  'Neighborhood': 'The Danforth  East'},\n",
       " {'PostalCode': 'M5J',\n",
       "  'Borough': 'Downtown Toronto',\n",
       "  'Neighborhood': 'Harbourfront East, Union Station, Toronto Islands'},\n",
       " {'PostalCode': 'M6J',\n",
       "  'Borough': 'West Toronto',\n",
       "  'Neighborhood': 'Little Portugal, Trinity'},\n",
       " {'PostalCode': 'M1K',\n",
       "  'Borough': 'Scarborough',\n",
       "  'Neighborhood': 'Kennedy Park, Ionview, East Birchmount Park'},\n",
       " {'PostalCode': 'M2K',\n",
       "  'Borough': 'North York',\n",
       "  'Neighborhood': 'Bayview Village'},\n",
       " {'PostalCode': 'M3K',\n",
       "  'Borough': 'North York',\n",
       "  'Neighborhood': 'Downsview East'},\n",
       " {'PostalCode': 'M4K',\n",
       "  'Borough': 'East Toronto',\n",
       "  'Neighborhood': 'The Danforth West, Riverdale'},\n",
       " {'PostalCode': 'M5K',\n",
       "  'Borough': 'Downtown Toronto',\n",
       "  'Neighborhood': 'Toronto Dominion Centre, Design Exchange'},\n",
       " {'PostalCode': 'M6K',\n",
       "  'Borough': 'West Toronto',\n",
       "  'Neighborhood': 'Brockton, Parkdale Village, Exhibition Place'},\n",
       " {'PostalCode': 'M1L',\n",
       "  'Borough': 'Scarborough',\n",
       "  'Neighborhood': 'Golden Mile, Clairlea, Oakridge'},\n",
       " {'PostalCode': 'M2L',\n",
       "  'Borough': 'North York',\n",
       "  'Neighborhood': 'York Mills, Silver Hills'},\n",
       " {'PostalCode': 'M3L',\n",
       "  'Borough': 'North York',\n",
       "  'Neighborhood': 'Downsview West'},\n",
       " {'PostalCode': 'M4L',\n",
       "  'Borough': 'East Toronto',\n",
       "  'Neighborhood': 'India Bazaar, The Beaches West'},\n",
       " {'PostalCode': 'M5L',\n",
       "  'Borough': 'Downtown Toronto',\n",
       "  'Neighborhood': 'Commerce Court, Victoria Hotel'},\n",
       " {'PostalCode': 'M6L',\n",
       "  'Borough': 'North York',\n",
       "  'Neighborhood': 'North Park, Maple Leaf Park, Upwood Park'},\n",
       " {'PostalCode': 'M9L',\n",
       "  'Borough': 'North York',\n",
       "  'Neighborhood': 'Humber Summit'},\n",
       " {'PostalCode': 'M1M',\n",
       "  'Borough': 'Scarborough',\n",
       "  'Neighborhood': 'Cliffside, Cliffcrest, Scarborough Village West'},\n",
       " {'PostalCode': 'M2M',\n",
       "  'Borough': 'North York',\n",
       "  'Neighborhood': 'Willowdale, Newtonbrook'},\n",
       " {'PostalCode': 'M3M',\n",
       "  'Borough': 'North York',\n",
       "  'Neighborhood': 'Downsview Central'},\n",
       " {'PostalCode': 'M4M',\n",
       "  'Borough': 'East Toronto',\n",
       "  'Neighborhood': 'Studio District'},\n",
       " {'PostalCode': 'M5M',\n",
       "  'Borough': 'North York',\n",
       "  'Neighborhood': 'Bedford Park, Lawrence Manor East'},\n",
       " {'PostalCode': 'M6M',\n",
       "  'Borough': 'York',\n",
       "  'Neighborhood': 'Del Ray, Mount Dennis, Keelsdale and Silverthorn'},\n",
       " {'PostalCode': 'M9M',\n",
       "  'Borough': 'North York',\n",
       "  'Neighborhood': 'Humberlea, Emery'},\n",
       " {'PostalCode': 'M1N',\n",
       "  'Borough': 'Scarborough',\n",
       "  'Neighborhood': 'Birch Cliff, Cliffside West'},\n",
       " {'PostalCode': 'M2N',\n",
       "  'Borough': 'North York',\n",
       "  'Neighborhood': 'Willowdale South'},\n",
       " {'PostalCode': 'M3N',\n",
       "  'Borough': 'North York',\n",
       "  'Neighborhood': 'Downsview Northwest'},\n",
       " {'PostalCode': 'M4N',\n",
       "  'Borough': 'Central Toronto',\n",
       "  'Neighborhood': 'Lawrence Park'},\n",
       " {'PostalCode': 'M5N',\n",
       "  'Borough': 'Central Toronto',\n",
       "  'Neighborhood': 'Roselawn'},\n",
       " {'PostalCode': 'M6N',\n",
       "  'Borough': 'York',\n",
       "  'Neighborhood': 'Runnymede, The Junction North'},\n",
       " {'PostalCode': 'M9N', 'Borough': 'York', 'Neighborhood': 'Weston'},\n",
       " {'PostalCode': 'M1P',\n",
       "  'Borough': 'Scarborough',\n",
       "  'Neighborhood': 'Dorset Park, Wexford Heights, Scarborough Town Centre'},\n",
       " {'PostalCode': 'M2P',\n",
       "  'Borough': 'North York',\n",
       "  'Neighborhood': 'York Mills West'},\n",
       " {'PostalCode': 'M4P',\n",
       "  'Borough': 'Central Toronto',\n",
       "  'Neighborhood': 'Davisville North'},\n",
       " {'PostalCode': 'M5P',\n",
       "  'Borough': 'Central Toronto',\n",
       "  'Neighborhood': 'Forest Hill North & West'},\n",
       " {'PostalCode': 'M6P',\n",
       "  'Borough': 'West Toronto',\n",
       "  'Neighborhood': 'High Park, The Junction South'},\n",
       " {'PostalCode': 'M9P', 'Borough': 'Etobicoke', 'Neighborhood': 'Westmount'},\n",
       " {'PostalCode': 'M1R',\n",
       "  'Borough': 'Scarborough',\n",
       "  'Neighborhood': 'Wexford, Maryvale'},\n",
       " {'PostalCode': 'M2R',\n",
       "  'Borough': 'North York',\n",
       "  'Neighborhood': 'Willowdale West'},\n",
       " {'PostalCode': 'M4R',\n",
       "  'Borough': 'Central Toronto',\n",
       "  'Neighborhood': 'North Toronto West'},\n",
       " {'PostalCode': 'M5R',\n",
       "  'Borough': 'Central Toronto',\n",
       "  'Neighborhood': 'The Annex, North Midtown, Yorkville'},\n",
       " {'PostalCode': 'M6R',\n",
       "  'Borough': 'West Toronto',\n",
       "  'Neighborhood': 'Parkdale, Roncesvalles'},\n",
       " {'PostalCode': 'M7R',\n",
       "  'Borough': 'MississaugaCanada Post Gateway Processing Centre',\n",
       "  'Neighborhood': 'Enclave of L4W'},\n",
       " {'PostalCode': 'M9R',\n",
       "  'Borough': 'Etobicoke',\n",
       "  'Neighborhood': 'Kingsview Village, St. Phillips, Martin Grove Gardens, Richview Gardens'},\n",
       " {'PostalCode': 'M1S', 'Borough': 'Scarborough', 'Neighborhood': 'Agincourt'},\n",
       " {'PostalCode': 'M4S',\n",
       "  'Borough': 'Central Toronto',\n",
       "  'Neighborhood': 'Davisville'},\n",
       " {'PostalCode': 'M5S',\n",
       "  'Borough': 'Downtown Toronto',\n",
       "  'Neighborhood': 'University of Toronto, Harbord'},\n",
       " {'PostalCode': 'M6S',\n",
       "  'Borough': 'West Toronto',\n",
       "  'Neighborhood': 'Runnymede, Swansea'},\n",
       " {'PostalCode': 'M1T',\n",
       "  'Borough': 'Scarborough',\n",
       "  'Neighborhood': \"Clarks Corners, Tam O'Shanter, Sullivan\"},\n",
       " {'PostalCode': 'M4T',\n",
       "  'Borough': 'Central Toronto',\n",
       "  'Neighborhood': 'Moore Park, Summerhill East'},\n",
       " {'PostalCode': 'M5T',\n",
       "  'Borough': 'Downtown Toronto',\n",
       "  'Neighborhood': 'Kensington Market, Chinatown, Grange Park'},\n",
       " {'PostalCode': 'M1V',\n",
       "  'Borough': 'Scarborough',\n",
       "  'Neighborhood': \"Milliken, Agincourt North, Steeles East, L'Amoreaux East\"},\n",
       " {'PostalCode': 'M4V',\n",
       "  'Borough': 'Central Toronto',\n",
       "  'Neighborhood': 'Summerhill West, Rathnelly, South Hill, Forest Hill SE, Deer Park'},\n",
       " {'PostalCode': 'M5V',\n",
       "  'Borough': 'Downtown Toronto',\n",
       "  'Neighborhood': 'CN Tower, King and Spadina, Railway Lands, Harbourfront West, Bathurst Quay, South Niagara, Island airport'},\n",
       " {'PostalCode': 'M8V',\n",
       "  'Borough': 'Etobicoke',\n",
       "  'Neighborhood': 'New Toronto, Mimico South, Humber Bay Shores'},\n",
       " {'PostalCode': 'M9V',\n",
       "  'Borough': 'Etobicoke',\n",
       "  'Neighborhood': 'South Steeles, Silverstone, Humbergate, Jamestown, Mount Olive, Beaumond Heights, Thistletown, Albion Gardens'},\n",
       " {'PostalCode': 'M1W',\n",
       "  'Borough': 'Scarborough',\n",
       "  'Neighborhood': \"Steeles West, L'Amoreaux West\"},\n",
       " {'PostalCode': 'M4W',\n",
       "  'Borough': 'Downtown Toronto',\n",
       "  'Neighborhood': 'Rosedale'},\n",
       " {'PostalCode': 'M5W',\n",
       "  'Borough': 'Downtown TorontoStn A PO Boxes25 The Esplanade',\n",
       "  'Neighborhood': 'Enclave of M5E'},\n",
       " {'PostalCode': 'M8W',\n",
       "  'Borough': 'Etobicoke',\n",
       "  'Neighborhood': 'Alderwood, Long Branch'},\n",
       " {'PostalCode': 'M9W',\n",
       "  'Borough': 'EtobicokeNorthwest',\n",
       "  'Neighborhood': 'Clairville, Humberwood, Woodbine Downs, West Humber, Kipling Heights, Rexdale, Elms, Tandridge, Old Rexdale'},\n",
       " {'PostalCode': 'M1X',\n",
       "  'Borough': 'Scarborough',\n",
       "  'Neighborhood': 'Upper Rouge'},\n",
       " {'PostalCode': 'M4X',\n",
       "  'Borough': 'Downtown Toronto',\n",
       "  'Neighborhood': 'St. James Town, Cabbagetown'},\n",
       " {'PostalCode': 'M5X',\n",
       "  'Borough': 'Downtown Toronto',\n",
       "  'Neighborhood': 'First Canadian Place, Underground city'},\n",
       " {'PostalCode': 'M8X',\n",
       "  'Borough': 'Etobicoke',\n",
       "  'Neighborhood': 'The Kingsway, Montgomery Road, Old Mill North'},\n",
       " {'PostalCode': 'M4Y',\n",
       "  'Borough': 'Downtown Toronto',\n",
       "  'Neighborhood': 'Church and Wellesley'},\n",
       " {'PostalCode': 'M7Y',\n",
       "  'Borough': 'East TorontoBusiness reply mail Processing Centre969 Eastern',\n",
       "  'Neighborhood': 'Enclave of M4L'},\n",
       " {'PostalCode': 'M8Y',\n",
       "  'Borough': 'Etobicoke',\n",
       "  'Neighborhood': \"Old Mill South, King's Mill Park, Sunnylea, Humber Bay, Mimico NE, The Queensway East, Royal York South East, Kingsway Park South East\"},\n",
       " {'PostalCode': 'M8Z',\n",
       "  'Borough': 'Etobicoke',\n",
       "  'Neighborhood': 'Mimico NW, The Queensway West, South of Bloor, Kingsway Park South West, Royal York South West'}]"
      ]
     },
     "execution_count": 10,
     "metadata": {},
     "output_type": "execute_result"
    }
   ],
   "source": [
    "table_contents"
   ]
  },
  {
   "cell_type": "code",
   "execution_count": 13,
   "metadata": {},
   "outputs": [],
   "source": [
    "df=pd.DataFrame(table_contents)\n",
    "df['Borough']=df['Borough'].replace({'Downtown TorontoStn A PO Boxes25 The Esplanade':'Downtown Toronto Stn A',\n",
    "                                             'East TorontoBusiness reply mail Processing Centre969 Eastern':'East Toronto Business',\n",
    "                                             'EtobicokeNorthwest':'Etobicoke Northwest','East YorkEast Toronto':'East York/East Toronto',\n",
    "                                             'MississaugaCanada Post Gateway Processing Centre':'Mississauga'})"
   ]
  },
  {
   "cell_type": "code",
   "execution_count": 14,
   "metadata": {},
   "outputs": [
    {
     "data": {
      "text/html": [
       "<div>\n",
       "<style scoped>\n",
       "    .dataframe tbody tr th:only-of-type {\n",
       "        vertical-align: middle;\n",
       "    }\n",
       "\n",
       "    .dataframe tbody tr th {\n",
       "        vertical-align: top;\n",
       "    }\n",
       "\n",
       "    .dataframe thead th {\n",
       "        text-align: right;\n",
       "    }\n",
       "</style>\n",
       "<table border=\"1\" class=\"dataframe\">\n",
       "  <thead>\n",
       "    <tr style=\"text-align: right;\">\n",
       "      <th></th>\n",
       "      <th>PostalCode</th>\n",
       "      <th>Borough</th>\n",
       "      <th>Neighborhood</th>\n",
       "    </tr>\n",
       "  </thead>\n",
       "  <tbody>\n",
       "    <tr>\n",
       "      <th>0</th>\n",
       "      <td>M3A</td>\n",
       "      <td>North York</td>\n",
       "      <td>Parkwoods</td>\n",
       "    </tr>\n",
       "    <tr>\n",
       "      <th>1</th>\n",
       "      <td>M4A</td>\n",
       "      <td>North York</td>\n",
       "      <td>Victoria Village</td>\n",
       "    </tr>\n",
       "    <tr>\n",
       "      <th>2</th>\n",
       "      <td>M5A</td>\n",
       "      <td>Downtown Toronto</td>\n",
       "      <td>Regent Park, Harbourfront</td>\n",
       "    </tr>\n",
       "    <tr>\n",
       "      <th>3</th>\n",
       "      <td>M6A</td>\n",
       "      <td>North York</td>\n",
       "      <td>Lawrence Manor, Lawrence Heights</td>\n",
       "    </tr>\n",
       "    <tr>\n",
       "      <th>4</th>\n",
       "      <td>M7A</td>\n",
       "      <td>Queen's Park</td>\n",
       "      <td>Ontario Provincial Government</td>\n",
       "    </tr>\n",
       "    <tr>\n",
       "      <th>...</th>\n",
       "      <td>...</td>\n",
       "      <td>...</td>\n",
       "      <td>...</td>\n",
       "    </tr>\n",
       "    <tr>\n",
       "      <th>98</th>\n",
       "      <td>M8X</td>\n",
       "      <td>Etobicoke</td>\n",
       "      <td>The Kingsway, Montgomery Road, Old Mill North</td>\n",
       "    </tr>\n",
       "    <tr>\n",
       "      <th>99</th>\n",
       "      <td>M4Y</td>\n",
       "      <td>Downtown Toronto</td>\n",
       "      <td>Church and Wellesley</td>\n",
       "    </tr>\n",
       "    <tr>\n",
       "      <th>100</th>\n",
       "      <td>M7Y</td>\n",
       "      <td>East Toronto Business</td>\n",
       "      <td>Enclave of M4L</td>\n",
       "    </tr>\n",
       "    <tr>\n",
       "      <th>101</th>\n",
       "      <td>M8Y</td>\n",
       "      <td>Etobicoke</td>\n",
       "      <td>Old Mill South, King's Mill Park, Sunnylea, Hu...</td>\n",
       "    </tr>\n",
       "    <tr>\n",
       "      <th>102</th>\n",
       "      <td>M8Z</td>\n",
       "      <td>Etobicoke</td>\n",
       "      <td>Mimico NW, The Queensway West, South of Bloor,...</td>\n",
       "    </tr>\n",
       "  </tbody>\n",
       "</table>\n",
       "<p>103 rows × 3 columns</p>\n",
       "</div>"
      ],
      "text/plain": [
       "    PostalCode                Borough  \\\n",
       "0          M3A             North York   \n",
       "1          M4A             North York   \n",
       "2          M5A       Downtown Toronto   \n",
       "3          M6A             North York   \n",
       "4          M7A           Queen's Park   \n",
       "..         ...                    ...   \n",
       "98         M8X              Etobicoke   \n",
       "99         M4Y       Downtown Toronto   \n",
       "100        M7Y  East Toronto Business   \n",
       "101        M8Y              Etobicoke   \n",
       "102        M8Z              Etobicoke   \n",
       "\n",
       "                                          Neighborhood  \n",
       "0                                            Parkwoods  \n",
       "1                                     Victoria Village  \n",
       "2                            Regent Park, Harbourfront  \n",
       "3                     Lawrence Manor, Lawrence Heights  \n",
       "4                        Ontario Provincial Government  \n",
       "..                                                 ...  \n",
       "98       The Kingsway, Montgomery Road, Old Mill North  \n",
       "99                                Church and Wellesley  \n",
       "100                                     Enclave of M4L  \n",
       "101  Old Mill South, King's Mill Park, Sunnylea, Hu...  \n",
       "102  Mimico NW, The Queensway West, South of Bloor,...  \n",
       "\n",
       "[103 rows x 3 columns]"
      ]
     },
     "execution_count": 14,
     "metadata": {},
     "output_type": "execute_result"
    }
   ],
   "source": [
    "df"
   ]
  },
  {
   "cell_type": "code",
   "execution_count": 15,
   "metadata": {},
   "outputs": [
    {
     "data": {
      "text/plain": [
       "(103, 3)"
      ]
     },
     "execution_count": 15,
     "metadata": {},
     "output_type": "execute_result"
    }
   ],
   "source": [
    "df.shape"
   ]
  },
  {
   "cell_type": "markdown",
   "metadata": {},
   "source": [
    "# week 3-2 get the latitude and the longitude"
   ]
  },
  {
   "cell_type": "code",
   "execution_count": 21,
   "metadata": {},
   "outputs": [
    {
     "ename": "NameError",
     "evalue": "name 'postal_code' is not defined",
     "output_type": "error",
     "traceback": [
      "\u001b[0;31m---------------------------------------------------------------------------\u001b[0m",
      "\u001b[0;31mNameError\u001b[0m                                 Traceback (most recent call last)",
      "\u001b[0;32m<ipython-input-21-15d80b1bb123>\u001b[0m in \u001b[0;36m<module>\u001b[0;34m\u001b[0m\n\u001b[1;32m      6\u001b[0m \u001b[0;31m# loop until you get the coordinates\u001b[0m\u001b[0;34m\u001b[0m\u001b[0;34m\u001b[0m\u001b[0;34m\u001b[0m\u001b[0m\n\u001b[1;32m      7\u001b[0m \u001b[0;32mwhile\u001b[0m\u001b[0;34m(\u001b[0m\u001b[0mlat_lng_coords\u001b[0m \u001b[0;32mis\u001b[0m \u001b[0;32mNone\u001b[0m\u001b[0;34m)\u001b[0m\u001b[0;34m:\u001b[0m\u001b[0;34m\u001b[0m\u001b[0;34m\u001b[0m\u001b[0m\n\u001b[0;32m----> 8\u001b[0;31m   \u001b[0mg\u001b[0m \u001b[0;34m=\u001b[0m \u001b[0mgeocoder\u001b[0m\u001b[0;34m.\u001b[0m\u001b[0mgoogle\u001b[0m\u001b[0;34m(\u001b[0m\u001b[0;34m'{}, Toronto, Ontario'\u001b[0m\u001b[0;34m.\u001b[0m\u001b[0mformat\u001b[0m\u001b[0;34m(\u001b[0m\u001b[0mpostal_code\u001b[0m\u001b[0;34m)\u001b[0m\u001b[0;34m)\u001b[0m\u001b[0;34m\u001b[0m\u001b[0;34m\u001b[0m\u001b[0m\n\u001b[0m\u001b[1;32m      9\u001b[0m   \u001b[0mlat_lng_coords\u001b[0m \u001b[0;34m=\u001b[0m \u001b[0mg\u001b[0m\u001b[0;34m.\u001b[0m\u001b[0mlatlng\u001b[0m\u001b[0;34m\u001b[0m\u001b[0;34m\u001b[0m\u001b[0m\n\u001b[1;32m     10\u001b[0m \u001b[0;34m\u001b[0m\u001b[0m\n",
      "\u001b[0;31mNameError\u001b[0m: name 'postal_code' is not defined"
     ]
    }
   ],
   "source": [
    "import geocoder # import geocoder\n",
    "\n",
    "# initialize your variable to None\n",
    "lat_lng_coords = None\n",
    "\n",
    "# loop until you get the coordinates\n",
    "while(lat_lng_coords is None):\n",
    "  g = geocoder.google('{}, Toronto, Ontario'.format(postal_code))\n",
    "  lat_lng_coords = g.latlng\n",
    "\n",
    "latitude = lat_lng_coords[0]\n",
    "longitude = lat_lng_coords[1]"
   ]
  },
  {
   "cell_type": "markdown",
   "metadata": {},
   "source": [
    "our data is from [GeoSpatial Dataset](https://cf-courses-data.s3.us.cloud-object-storage.appdomain.cloud/IBMDeveloperSkillsNetwork-DS0701EN-SkillsNetwork/labs_v1/Geospatial_Coordinates.csv)"
   ]
  },
  {
   "cell_type": "code",
   "execution_count": 22,
   "metadata": {},
   "outputs": [],
   "source": [
    "geospatial_data = pd.read_csv(\"https://cf-courses-data.s3.us.cloud-object-storage.appdomain.cloud/IBMDeveloperSkillsNetwork-DS0701EN-SkillsNetwork/labs_v1/Geospatial_Coordinates.csv\")"
   ]
  },
  {
   "cell_type": "code",
   "execution_count": 26,
   "metadata": {},
   "outputs": [
    {
     "data": {
      "text/html": [
       "<div>\n",
       "<style scoped>\n",
       "    .dataframe tbody tr th:only-of-type {\n",
       "        vertical-align: middle;\n",
       "    }\n",
       "\n",
       "    .dataframe tbody tr th {\n",
       "        vertical-align: top;\n",
       "    }\n",
       "\n",
       "    .dataframe thead th {\n",
       "        text-align: right;\n",
       "    }\n",
       "</style>\n",
       "<table border=\"1\" class=\"dataframe\">\n",
       "  <thead>\n",
       "    <tr style=\"text-align: right;\">\n",
       "      <th></th>\n",
       "      <th>Postal Code</th>\n",
       "      <th>Latitude</th>\n",
       "      <th>Longitude</th>\n",
       "    </tr>\n",
       "  </thead>\n",
       "  <tbody>\n",
       "    <tr>\n",
       "      <th>0</th>\n",
       "      <td>M1B</td>\n",
       "      <td>43.806686</td>\n",
       "      <td>-79.194353</td>\n",
       "    </tr>\n",
       "    <tr>\n",
       "      <th>1</th>\n",
       "      <td>M1C</td>\n",
       "      <td>43.784535</td>\n",
       "      <td>-79.160497</td>\n",
       "    </tr>\n",
       "    <tr>\n",
       "      <th>2</th>\n",
       "      <td>M1E</td>\n",
       "      <td>43.763573</td>\n",
       "      <td>-79.188711</td>\n",
       "    </tr>\n",
       "    <tr>\n",
       "      <th>3</th>\n",
       "      <td>M1G</td>\n",
       "      <td>43.770992</td>\n",
       "      <td>-79.216917</td>\n",
       "    </tr>\n",
       "    <tr>\n",
       "      <th>4</th>\n",
       "      <td>M1H</td>\n",
       "      <td>43.773136</td>\n",
       "      <td>-79.239476</td>\n",
       "    </tr>\n",
       "  </tbody>\n",
       "</table>\n",
       "</div>"
      ],
      "text/plain": [
       "  Postal Code   Latitude  Longitude\n",
       "0         M1B  43.806686 -79.194353\n",
       "1         M1C  43.784535 -79.160497\n",
       "2         M1E  43.763573 -79.188711\n",
       "3         M1G  43.770992 -79.216917\n",
       "4         M1H  43.773136 -79.239476"
      ]
     },
     "execution_count": 26,
     "metadata": {},
     "output_type": "execute_result"
    }
   ],
   "source": [
    "geospatial_data.head()"
   ]
  },
  {
   "cell_type": "code",
   "execution_count": 29,
   "metadata": {},
   "outputs": [
    {
     "data": {
      "text/html": [
       "<div>\n",
       "<style scoped>\n",
       "    .dataframe tbody tr th:only-of-type {\n",
       "        vertical-align: middle;\n",
       "    }\n",
       "\n",
       "    .dataframe tbody tr th {\n",
       "        vertical-align: top;\n",
       "    }\n",
       "\n",
       "    .dataframe thead th {\n",
       "        text-align: right;\n",
       "    }\n",
       "</style>\n",
       "<table border=\"1\" class=\"dataframe\">\n",
       "  <thead>\n",
       "    <tr style=\"text-align: right;\">\n",
       "      <th></th>\n",
       "      <th>PostalCode</th>\n",
       "      <th>Borough</th>\n",
       "      <th>Neighborhood</th>\n",
       "      <th>Postal Code</th>\n",
       "      <th>Latitude</th>\n",
       "      <th>Longitude</th>\n",
       "    </tr>\n",
       "  </thead>\n",
       "  <tbody>\n",
       "    <tr>\n",
       "      <th>0</th>\n",
       "      <td>M3A</td>\n",
       "      <td>North York</td>\n",
       "      <td>Parkwoods</td>\n",
       "      <td>M3A</td>\n",
       "      <td>43.753259</td>\n",
       "      <td>-79.329656</td>\n",
       "    </tr>\n",
       "    <tr>\n",
       "      <th>1</th>\n",
       "      <td>M4A</td>\n",
       "      <td>North York</td>\n",
       "      <td>Victoria Village</td>\n",
       "      <td>M4A</td>\n",
       "      <td>43.725882</td>\n",
       "      <td>-79.315572</td>\n",
       "    </tr>\n",
       "    <tr>\n",
       "      <th>2</th>\n",
       "      <td>M5A</td>\n",
       "      <td>Downtown Toronto</td>\n",
       "      <td>Regent Park, Harbourfront</td>\n",
       "      <td>M5A</td>\n",
       "      <td>43.654260</td>\n",
       "      <td>-79.360636</td>\n",
       "    </tr>\n",
       "    <tr>\n",
       "      <th>3</th>\n",
       "      <td>M6A</td>\n",
       "      <td>North York</td>\n",
       "      <td>Lawrence Manor, Lawrence Heights</td>\n",
       "      <td>M6A</td>\n",
       "      <td>43.718518</td>\n",
       "      <td>-79.464763</td>\n",
       "    </tr>\n",
       "    <tr>\n",
       "      <th>4</th>\n",
       "      <td>M7A</td>\n",
       "      <td>Queen's Park</td>\n",
       "      <td>Ontario Provincial Government</td>\n",
       "      <td>M7A</td>\n",
       "      <td>43.662301</td>\n",
       "      <td>-79.389494</td>\n",
       "    </tr>\n",
       "    <tr>\n",
       "      <th>...</th>\n",
       "      <td>...</td>\n",
       "      <td>...</td>\n",
       "      <td>...</td>\n",
       "      <td>...</td>\n",
       "      <td>...</td>\n",
       "      <td>...</td>\n",
       "    </tr>\n",
       "    <tr>\n",
       "      <th>98</th>\n",
       "      <td>M8X</td>\n",
       "      <td>Etobicoke</td>\n",
       "      <td>The Kingsway, Montgomery Road, Old Mill North</td>\n",
       "      <td>M8X</td>\n",
       "      <td>43.653654</td>\n",
       "      <td>-79.506944</td>\n",
       "    </tr>\n",
       "    <tr>\n",
       "      <th>99</th>\n",
       "      <td>M4Y</td>\n",
       "      <td>Downtown Toronto</td>\n",
       "      <td>Church and Wellesley</td>\n",
       "      <td>M4Y</td>\n",
       "      <td>43.665860</td>\n",
       "      <td>-79.383160</td>\n",
       "    </tr>\n",
       "    <tr>\n",
       "      <th>100</th>\n",
       "      <td>M7Y</td>\n",
       "      <td>East Toronto Business</td>\n",
       "      <td>Enclave of M4L</td>\n",
       "      <td>M7Y</td>\n",
       "      <td>43.662744</td>\n",
       "      <td>-79.321558</td>\n",
       "    </tr>\n",
       "    <tr>\n",
       "      <th>101</th>\n",
       "      <td>M8Y</td>\n",
       "      <td>Etobicoke</td>\n",
       "      <td>Old Mill South, King's Mill Park, Sunnylea, Hu...</td>\n",
       "      <td>M8Y</td>\n",
       "      <td>43.636258</td>\n",
       "      <td>-79.498509</td>\n",
       "    </tr>\n",
       "    <tr>\n",
       "      <th>102</th>\n",
       "      <td>M8Z</td>\n",
       "      <td>Etobicoke</td>\n",
       "      <td>Mimico NW, The Queensway West, South of Bloor,...</td>\n",
       "      <td>M8Z</td>\n",
       "      <td>43.628841</td>\n",
       "      <td>-79.520999</td>\n",
       "    </tr>\n",
       "  </tbody>\n",
       "</table>\n",
       "<p>103 rows × 6 columns</p>\n",
       "</div>"
      ],
      "text/plain": [
       "    PostalCode                Borough  \\\n",
       "0          M3A             North York   \n",
       "1          M4A             North York   \n",
       "2          M5A       Downtown Toronto   \n",
       "3          M6A             North York   \n",
       "4          M7A           Queen's Park   \n",
       "..         ...                    ...   \n",
       "98         M8X              Etobicoke   \n",
       "99         M4Y       Downtown Toronto   \n",
       "100        M7Y  East Toronto Business   \n",
       "101        M8Y              Etobicoke   \n",
       "102        M8Z              Etobicoke   \n",
       "\n",
       "                                          Neighborhood Postal Code   Latitude  \\\n",
       "0                                            Parkwoods         M3A  43.753259   \n",
       "1                                     Victoria Village         M4A  43.725882   \n",
       "2                            Regent Park, Harbourfront         M5A  43.654260   \n",
       "3                     Lawrence Manor, Lawrence Heights         M6A  43.718518   \n",
       "4                        Ontario Provincial Government         M7A  43.662301   \n",
       "..                                                 ...         ...        ...   \n",
       "98       The Kingsway, Montgomery Road, Old Mill North         M8X  43.653654   \n",
       "99                                Church and Wellesley         M4Y  43.665860   \n",
       "100                                     Enclave of M4L         M7Y  43.662744   \n",
       "101  Old Mill South, King's Mill Park, Sunnylea, Hu...         M8Y  43.636258   \n",
       "102  Mimico NW, The Queensway West, South of Bloor,...         M8Z  43.628841   \n",
       "\n",
       "     Longitude  \n",
       "0   -79.329656  \n",
       "1   -79.315572  \n",
       "2   -79.360636  \n",
       "3   -79.464763  \n",
       "4   -79.389494  \n",
       "..         ...  \n",
       "98  -79.506944  \n",
       "99  -79.383160  \n",
       "100 -79.321558  \n",
       "101 -79.498509  \n",
       "102 -79.520999  \n",
       "\n",
       "[103 rows x 6 columns]"
      ]
     },
     "execution_count": 29,
     "metadata": {},
     "output_type": "execute_result"
    }
   ],
   "source": [
    "Toronto_df = pd.merge(\n",
    "    df, geospatial_data[[\"Postal Code\",\"Latitude\", \"Longitude\"]],\n",
    "    left_on = \"PostalCode\", right_on=\"Postal Code\")\n",
    "Toronto_df"
   ]
  },
  {
   "cell_type": "markdown",
   "metadata": {},
   "source": [
    "# week 3-3 Explore and cluster the neighborhoods in Toronto."
   ]
  },
  {
   "cell_type": "code",
   "execution_count": 30,
   "metadata": {},
   "outputs": [],
   "source": [
    "Toronto_df_for_cluster = Toronto_df[[\"Borough\", \"Latitude\", \"Longitude\"]]"
   ]
  },
  {
   "cell_type": "code",
   "execution_count": 35,
   "metadata": {},
   "outputs": [],
   "source": [
    "from sklearn import cluster, datasets, metrics\n",
    "from sklearn.cluster import KMeans\n",
    "import matplotlib.pyplot as plt"
   ]
  },
  {
   "cell_type": "code",
   "execution_count": 39,
   "metadata": {},
   "outputs": [],
   "source": [
    "n = 6\n",
    "datalist = [pd.DataFrame() for _ in range(n)]\n",
    "kmeans = KMeans(n_clusters = n, init = 'k-means++', max_iter = 300, n_init = 10, random_state = 0)\n",
    "pred_y = kmeans.fit_predict(Toronto_df_for_cluster[[\"Latitude\", \"Longitude\"]])\n",
    "for i in range(0, n):\n",
    "    datalist[i] = Toronto_df_for_cluster.loc[pred_y == i, ['Borough', 'Latitude', 'Longitude']]"
   ]
  },
  {
   "cell_type": "code",
   "execution_count": 40,
   "metadata": {},
   "outputs": [
    {
     "name": "stdout",
     "output_type": "stream",
     "text": [
      "                    Borough   Latitude  Longitude\n",
      "0                North York  43.753259 -79.329656\n",
      "1                North York  43.725882 -79.315572\n",
      "8                 East York  43.706397 -79.309937\n",
      "13               North York  43.725900 -79.340923\n",
      "14                East York  43.695344 -79.318389\n",
      "19             East Toronto  43.676357 -79.293031\n",
      "23                East York  43.709060 -79.363452\n",
      "29                East York  43.705369 -79.349372\n",
      "35   East York/East Toronto  43.685347 -79.338106\n",
      "41             East Toronto  43.679557 -79.352188\n",
      "44              Scarborough  43.711112 -79.284577\n",
      "47             East Toronto  43.668999 -79.315572\n",
      "54             East Toronto  43.659526 -79.340923\n",
      "58              Scarborough  43.692657 -79.264848\n",
      "71              Scarborough  43.750071 -79.295849\n",
      "100   East Toronto Business  43.662744 -79.321558\n"
     ]
    }
   ],
   "source": [
    "print(datalist[0])"
   ]
  },
  {
   "cell_type": "code",
   "execution_count": 41,
   "metadata": {},
   "outputs": [
    {
     "name": "stdout",
     "output_type": "stream",
     "text": [
      "                 Borough   Latitude  Longitude\n",
      "5              Etobicoke  43.667856 -79.532242\n",
      "11             Etobicoke  43.650943 -79.554724\n",
      "17             Etobicoke  43.643515 -79.577201\n",
      "70             Etobicoke  43.696319 -79.532242\n",
      "76           Mississauga  43.636966 -79.615819\n",
      "77             Etobicoke  43.688905 -79.554724\n",
      "88             Etobicoke  43.605647 -79.501321\n",
      "89             Etobicoke  43.739416 -79.588437\n",
      "93             Etobicoke  43.602414 -79.543484\n",
      "94   Etobicoke Northwest  43.706748 -79.594054\n",
      "98             Etobicoke  43.653654 -79.506944\n",
      "101            Etobicoke  43.636258 -79.498509\n",
      "102            Etobicoke  43.628841 -79.520999\n"
     ]
    }
   ],
   "source": [
    "print(datalist[1])"
   ]
  },
  {
   "cell_type": "code",
   "execution_count": 42,
   "metadata": {},
   "outputs": [
    {
     "name": "stdout",
     "output_type": "stream",
     "text": [
      "        Borough   Latitude  Longitude\n",
      "6   Scarborough  43.806686 -79.194353\n",
      "12  Scarborough  43.784535 -79.160497\n",
      "18  Scarborough  43.763573 -79.188711\n",
      "22  Scarborough  43.770992 -79.216917\n",
      "26  Scarborough  43.773136 -79.239476\n",
      "32  Scarborough  43.744734 -79.239476\n",
      "38  Scarborough  43.727929 -79.262029\n",
      "51  Scarborough  43.716316 -79.239476\n",
      "65  Scarborough  43.757410 -79.273304\n",
      "78  Scarborough  43.794200 -79.262029\n",
      "82  Scarborough  43.781638 -79.304302\n",
      "85  Scarborough  43.815252 -79.284577\n",
      "95  Scarborough  43.836125 -79.205636\n"
     ]
    }
   ],
   "source": [
    "print(datalist[2])"
   ]
  },
  {
   "cell_type": "code",
   "execution_count": 43,
   "metadata": {},
   "outputs": [
    {
     "name": "stdout",
     "output_type": "stream",
     "text": [
      "            Borough   Latitude  Longitude\n",
      "7        North York  43.745906 -79.352188\n",
      "27       North York  43.803762 -79.363452\n",
      "28       North York  43.754328 -79.442259\n",
      "33       North York  43.778517 -79.346556\n",
      "39       North York  43.786947 -79.385975\n",
      "45       North York  43.757490 -79.374714\n",
      "52       North York  43.789053 -79.408493\n",
      "55       North York  43.733283 -79.419750\n",
      "59       North York  43.770120 -79.408493\n",
      "61  Central Toronto  43.728020 -79.388790\n",
      "66       North York  43.752758 -79.400049\n",
      "72       North York  43.782736 -79.442259\n",
      "90      Scarborough  43.799525 -79.318389\n"
     ]
    }
   ],
   "source": [
    "print(datalist[3])"
   ]
  },
  {
   "cell_type": "code",
   "execution_count": 44,
   "metadata": {},
   "outputs": [
    {
     "name": "stdout",
     "output_type": "stream",
     "text": [
      "         Borough   Latitude  Longitude\n",
      "3     North York  43.718518 -79.464763\n",
      "10    North York  43.709577 -79.445073\n",
      "21          York  43.689026 -79.453512\n",
      "34    North York  43.767980 -79.487262\n",
      "40    North York  43.737473 -79.464763\n",
      "46    North York  43.739015 -79.506944\n",
      "49    North York  43.713756 -79.490074\n",
      "50    North York  43.756303 -79.565963\n",
      "53    North York  43.728496 -79.495697\n",
      "56          York  43.691116 -79.476013\n",
      "57    North York  43.724766 -79.532242\n",
      "60    North York  43.761631 -79.520999\n",
      "63          York  43.673185 -79.487262\n",
      "64          York  43.706876 -79.518188\n",
      "69  West Toronto  43.661608 -79.464763\n",
      "81  West Toronto  43.651571 -79.484450\n"
     ]
    }
   ],
   "source": [
    "print(datalist[4])"
   ]
  },
  {
   "cell_type": "code",
   "execution_count": 45,
   "metadata": {},
   "outputs": [
    {
     "name": "stdout",
     "output_type": "stream",
     "text": [
      "                   Borough   Latitude  Longitude\n",
      "2         Downtown Toronto  43.654260 -79.360636\n",
      "4             Queen's Park  43.662301 -79.389494\n",
      "9         Downtown Toronto  43.657162 -79.378937\n",
      "15        Downtown Toronto  43.651494 -79.375418\n",
      "16                    York  43.693781 -79.428191\n",
      "20        Downtown Toronto  43.644771 -79.373306\n",
      "24        Downtown Toronto  43.657952 -79.387383\n",
      "25        Downtown Toronto  43.669542 -79.422564\n",
      "30        Downtown Toronto  43.650571 -79.384568\n",
      "31            West Toronto  43.669005 -79.442259\n",
      "36        Downtown Toronto  43.640816 -79.381752\n",
      "37            West Toronto  43.647927 -79.419750\n",
      "42        Downtown Toronto  43.647177 -79.381576\n",
      "43            West Toronto  43.636847 -79.428191\n",
      "48        Downtown Toronto  43.648198 -79.379817\n",
      "62         Central Toronto  43.711695 -79.416936\n",
      "67         Central Toronto  43.712751 -79.390197\n",
      "68         Central Toronto  43.696948 -79.411307\n",
      "73         Central Toronto  43.715383 -79.405678\n",
      "74         Central Toronto  43.672710 -79.405678\n",
      "75            West Toronto  43.648960 -79.456325\n",
      "79         Central Toronto  43.704324 -79.388790\n",
      "80        Downtown Toronto  43.662696 -79.400049\n",
      "83         Central Toronto  43.689574 -79.383160\n",
      "84        Downtown Toronto  43.653206 -79.400049\n",
      "86         Central Toronto  43.686412 -79.400049\n",
      "87        Downtown Toronto  43.628947 -79.394420\n",
      "91        Downtown Toronto  43.679563 -79.377529\n",
      "92  Downtown Toronto Stn A  43.646435 -79.374846\n",
      "96        Downtown Toronto  43.667967 -79.367675\n",
      "97        Downtown Toronto  43.648429 -79.382280\n",
      "99        Downtown Toronto  43.665860 -79.383160\n"
     ]
    }
   ],
   "source": [
    "print(datalist[5])"
   ]
  },
  {
   "cell_type": "code",
   "execution_count": 55,
   "metadata": {},
   "outputs": [],
   "source": [
    "group1 = datalist[0]\n",
    "group1[\"group\"] = 1\n",
    "group2 = datalist[1]\n",
    "group2[\"group\"] = 2\n",
    "group3 = datalist[2]\n",
    "group3[\"group\"] = 3\n",
    "group4 = datalist[3]\n",
    "group4[\"group\"] = 4\n",
    "group5 = datalist[4]\n",
    "group5[\"group\"] = 5\n",
    "group6 = datalist[5]\n",
    "group6[\"group\"] = 6"
   ]
  },
  {
   "cell_type": "code",
   "execution_count": 60,
   "metadata": {},
   "outputs": [],
   "source": [
    "grouped_data = pd.concat([group2, group3, group4, group5, group6])"
   ]
  },
  {
   "cell_type": "code",
   "execution_count": 48,
   "metadata": {},
   "outputs": [],
   "source": [
    "import plotly.graph_objects as go"
   ]
  },
  {
   "cell_type": "code",
   "execution_count": 64,
   "metadata": {},
   "outputs": [
    {
     "data": {
      "application/vnd.plotly.v1+json": {
       "config": {
        "plotlyServerURL": "https://plot.ly"
       },
       "data": [
        {
         "lat": [
          43.6678556,
          43.6509432,
          43.6435152,
          43.696319,
          43.6369656,
          43.6889054,
          43.6056466,
          43.7394164,
          43.6024137,
          43.7067483,
          43.6536536,
          43.6362579,
          43.6288408,
          43.8066863,
          43.7845351,
          43.7635726,
          43.7709921,
          43.773136,
          43.7447342,
          43.7279292,
          43.716316,
          43.7574096,
          43.7942003,
          43.7816375,
          43.8152522,
          43.8361247,
          43.7459058,
          43.8037622,
          43.7543283,
          43.7785175,
          43.7869473,
          43.7574902,
          43.789053,
          43.7332825,
          43.7701199,
          43.7280205,
          43.7527583,
          43.7827364,
          43.7995252,
          43.718518,
          43.709577,
          43.6890256,
          43.7679803,
          43.7374732,
          43.7390146,
          43.7137562,
          43.7563033,
          43.7284964,
          43.6911158,
          43.7247659,
          43.7616313,
          43.6731853,
          43.706876,
          43.6616083,
          43.6515706,
          43.6542599,
          43.6623015,
          43.6571618,
          43.6514939,
          43.6937813,
          43.6447708,
          43.6579524,
          43.669542,
          43.6505712,
          43.6690051,
          43.6408157,
          43.6479267,
          43.6471768,
          43.6368472,
          43.6481985,
          43.7116948,
          43.7127511,
          43.6969476,
          43.7153834,
          43.6727097,
          43.6489597,
          43.7043244,
          43.6626956,
          43.6895743,
          43.6532057,
          43.6864123,
          43.6289467,
          43.6795626,
          43.6464352,
          43.667967,
          43.6484292,
          43.6658599
         ],
         "lon": [
          -79.5322424,
          -79.5547244,
          -79.5772008,
          -79.5322424,
          -79.615819,
          -79.5547244,
          -79.5013207,
          -79.5884369,
          -79.5434841,
          -79.5940544,
          -79.5069436,
          -79.4985091,
          -79.5209994,
          -79.1943534,
          -79.1604971,
          -79.1887115,
          -79.2169174,
          -79.2394761,
          -79.2394761,
          -79.2620294,
          -79.2394761,
          -79.273304,
          -79.2620294,
          -79.3043021,
          -79.2845772,
          -79.2056361,
          -79.352188,
          -79.3634517,
          -79.4422593,
          -79.3465557,
          -79.385975,
          -79.3747141,
          -79.4084928,
          -79.4197497,
          -79.4084928,
          -79.3887901,
          -79.4000493,
          -79.4422593,
          -79.3183887,
          -79.4647633,
          -79.4450726,
          -79.453512,
          -79.4872619,
          -79.4647633,
          -79.5069436,
          -79.4900738,
          -79.5659633,
          -79.4956974,
          -79.4760133,
          -79.5322424,
          -79.5209994,
          -79.4872619,
          -79.5181884,
          -79.4647633,
          -79.4844499,
          -79.3606359,
          -79.3894938,
          -79.3789371,
          -79.3754179,
          -79.4281914,
          -79.3733064,
          -79.3873826,
          -79.4225637,
          -79.3845675,
          -79.4422593,
          -79.3817523,
          -79.4197497,
          -79.3815764,
          -79.4281914,
          -79.3798169,
          -79.4169356,
          -79.3901975,
          -79.4113072,
          -79.4056784,
          -79.4056784,
          -79.456325,
          -79.3887901,
          -79.4000493,
          -79.3831599,
          -79.4000493,
          -79.4000493,
          -79.3944199,
          -79.3775294,
          -79.374846,
          -79.3676753,
          -79.3822802,
          -79.3831599
         ],
         "marker": {
          "color": [
           2,
           2,
           2,
           2,
           2,
           2,
           2,
           2,
           2,
           2,
           2,
           2,
           2,
           3,
           3,
           3,
           3,
           3,
           3,
           3,
           3,
           3,
           3,
           3,
           3,
           3,
           4,
           4,
           4,
           4,
           4,
           4,
           4,
           4,
           4,
           4,
           4,
           4,
           4,
           5,
           5,
           5,
           5,
           5,
           5,
           5,
           5,
           5,
           5,
           5,
           5,
           5,
           5,
           5,
           5,
           6,
           6,
           6,
           6,
           6,
           6,
           6,
           6,
           6,
           6,
           6,
           6,
           6,
           6,
           6,
           6,
           6,
           6,
           6,
           6,
           6,
           6,
           6,
           6,
           6,
           6,
           6,
           6,
           6,
           6,
           6,
           6
          ]
         },
         "mode": "markers",
         "text": [
          "Etobicoke",
          "Etobicoke",
          "Etobicoke",
          "Etobicoke",
          "Mississauga",
          "Etobicoke",
          "Etobicoke",
          "Etobicoke",
          "Etobicoke",
          "Etobicoke Northwest",
          "Etobicoke",
          "Etobicoke",
          "Etobicoke",
          "Scarborough",
          "Scarborough",
          "Scarborough",
          "Scarborough",
          "Scarborough",
          "Scarborough",
          "Scarborough",
          "Scarborough",
          "Scarborough",
          "Scarborough",
          "Scarborough",
          "Scarborough",
          "Scarborough",
          "North York",
          "North York",
          "North York",
          "North York",
          "North York",
          "North York",
          "North York",
          "North York",
          "North York",
          "Central Toronto",
          "North York",
          "North York",
          "Scarborough",
          "North York",
          "North York",
          "York",
          "North York",
          "North York",
          "North York",
          "North York",
          "North York",
          "North York",
          "York",
          "North York",
          "North York",
          "York",
          "York",
          "West Toronto",
          "West Toronto",
          "Downtown Toronto",
          "Queen's Park",
          "Downtown Toronto",
          "Downtown Toronto",
          "York",
          "Downtown Toronto",
          "Downtown Toronto",
          "Downtown Toronto",
          "Downtown Toronto",
          "West Toronto",
          "Downtown Toronto",
          "West Toronto",
          "Downtown Toronto",
          "West Toronto",
          "Downtown Toronto",
          "Central Toronto",
          "Central Toronto",
          "Central Toronto",
          "Central Toronto",
          "Central Toronto",
          "West Toronto",
          "Central Toronto",
          "Downtown Toronto",
          "Central Toronto",
          "Downtown Toronto",
          "Central Toronto",
          "Downtown Toronto",
          "Downtown Toronto",
          "Downtown Toronto Stn A",
          "Downtown Toronto",
          "Downtown Toronto",
          "Downtown Toronto"
         ],
         "type": "scattergeo"
        }
       ],
       "layout": {
        "geo": {
         "scope": "north america"
        },
        "template": {
         "data": {
          "bar": [
           {
            "error_x": {
             "color": "#2a3f5f"
            },
            "error_y": {
             "color": "#2a3f5f"
            },
            "marker": {
             "line": {
              "color": "#E5ECF6",
              "width": 0.5
             }
            },
            "type": "bar"
           }
          ],
          "barpolar": [
           {
            "marker": {
             "line": {
              "color": "#E5ECF6",
              "width": 0.5
             }
            },
            "type": "barpolar"
           }
          ],
          "carpet": [
           {
            "aaxis": {
             "endlinecolor": "#2a3f5f",
             "gridcolor": "white",
             "linecolor": "white",
             "minorgridcolor": "white",
             "startlinecolor": "#2a3f5f"
            },
            "baxis": {
             "endlinecolor": "#2a3f5f",
             "gridcolor": "white",
             "linecolor": "white",
             "minorgridcolor": "white",
             "startlinecolor": "#2a3f5f"
            },
            "type": "carpet"
           }
          ],
          "choropleth": [
           {
            "colorbar": {
             "outlinewidth": 0,
             "ticks": ""
            },
            "type": "choropleth"
           }
          ],
          "contour": [
           {
            "colorbar": {
             "outlinewidth": 0,
             "ticks": ""
            },
            "colorscale": [
             [
              0,
              "#0d0887"
             ],
             [
              0.1111111111111111,
              "#46039f"
             ],
             [
              0.2222222222222222,
              "#7201a8"
             ],
             [
              0.3333333333333333,
              "#9c179e"
             ],
             [
              0.4444444444444444,
              "#bd3786"
             ],
             [
              0.5555555555555556,
              "#d8576b"
             ],
             [
              0.6666666666666666,
              "#ed7953"
             ],
             [
              0.7777777777777778,
              "#fb9f3a"
             ],
             [
              0.8888888888888888,
              "#fdca26"
             ],
             [
              1,
              "#f0f921"
             ]
            ],
            "type": "contour"
           }
          ],
          "contourcarpet": [
           {
            "colorbar": {
             "outlinewidth": 0,
             "ticks": ""
            },
            "type": "contourcarpet"
           }
          ],
          "heatmap": [
           {
            "colorbar": {
             "outlinewidth": 0,
             "ticks": ""
            },
            "colorscale": [
             [
              0,
              "#0d0887"
             ],
             [
              0.1111111111111111,
              "#46039f"
             ],
             [
              0.2222222222222222,
              "#7201a8"
             ],
             [
              0.3333333333333333,
              "#9c179e"
             ],
             [
              0.4444444444444444,
              "#bd3786"
             ],
             [
              0.5555555555555556,
              "#d8576b"
             ],
             [
              0.6666666666666666,
              "#ed7953"
             ],
             [
              0.7777777777777778,
              "#fb9f3a"
             ],
             [
              0.8888888888888888,
              "#fdca26"
             ],
             [
              1,
              "#f0f921"
             ]
            ],
            "type": "heatmap"
           }
          ],
          "heatmapgl": [
           {
            "colorbar": {
             "outlinewidth": 0,
             "ticks": ""
            },
            "colorscale": [
             [
              0,
              "#0d0887"
             ],
             [
              0.1111111111111111,
              "#46039f"
             ],
             [
              0.2222222222222222,
              "#7201a8"
             ],
             [
              0.3333333333333333,
              "#9c179e"
             ],
             [
              0.4444444444444444,
              "#bd3786"
             ],
             [
              0.5555555555555556,
              "#d8576b"
             ],
             [
              0.6666666666666666,
              "#ed7953"
             ],
             [
              0.7777777777777778,
              "#fb9f3a"
             ],
             [
              0.8888888888888888,
              "#fdca26"
             ],
             [
              1,
              "#f0f921"
             ]
            ],
            "type": "heatmapgl"
           }
          ],
          "histogram": [
           {
            "marker": {
             "colorbar": {
              "outlinewidth": 0,
              "ticks": ""
             }
            },
            "type": "histogram"
           }
          ],
          "histogram2d": [
           {
            "colorbar": {
             "outlinewidth": 0,
             "ticks": ""
            },
            "colorscale": [
             [
              0,
              "#0d0887"
             ],
             [
              0.1111111111111111,
              "#46039f"
             ],
             [
              0.2222222222222222,
              "#7201a8"
             ],
             [
              0.3333333333333333,
              "#9c179e"
             ],
             [
              0.4444444444444444,
              "#bd3786"
             ],
             [
              0.5555555555555556,
              "#d8576b"
             ],
             [
              0.6666666666666666,
              "#ed7953"
             ],
             [
              0.7777777777777778,
              "#fb9f3a"
             ],
             [
              0.8888888888888888,
              "#fdca26"
             ],
             [
              1,
              "#f0f921"
             ]
            ],
            "type": "histogram2d"
           }
          ],
          "histogram2dcontour": [
           {
            "colorbar": {
             "outlinewidth": 0,
             "ticks": ""
            },
            "colorscale": [
             [
              0,
              "#0d0887"
             ],
             [
              0.1111111111111111,
              "#46039f"
             ],
             [
              0.2222222222222222,
              "#7201a8"
             ],
             [
              0.3333333333333333,
              "#9c179e"
             ],
             [
              0.4444444444444444,
              "#bd3786"
             ],
             [
              0.5555555555555556,
              "#d8576b"
             ],
             [
              0.6666666666666666,
              "#ed7953"
             ],
             [
              0.7777777777777778,
              "#fb9f3a"
             ],
             [
              0.8888888888888888,
              "#fdca26"
             ],
             [
              1,
              "#f0f921"
             ]
            ],
            "type": "histogram2dcontour"
           }
          ],
          "mesh3d": [
           {
            "colorbar": {
             "outlinewidth": 0,
             "ticks": ""
            },
            "type": "mesh3d"
           }
          ],
          "parcoords": [
           {
            "line": {
             "colorbar": {
              "outlinewidth": 0,
              "ticks": ""
             }
            },
            "type": "parcoords"
           }
          ],
          "pie": [
           {
            "automargin": true,
            "type": "pie"
           }
          ],
          "scatter": [
           {
            "marker": {
             "colorbar": {
              "outlinewidth": 0,
              "ticks": ""
             }
            },
            "type": "scatter"
           }
          ],
          "scatter3d": [
           {
            "line": {
             "colorbar": {
              "outlinewidth": 0,
              "ticks": ""
             }
            },
            "marker": {
             "colorbar": {
              "outlinewidth": 0,
              "ticks": ""
             }
            },
            "type": "scatter3d"
           }
          ],
          "scattercarpet": [
           {
            "marker": {
             "colorbar": {
              "outlinewidth": 0,
              "ticks": ""
             }
            },
            "type": "scattercarpet"
           }
          ],
          "scattergeo": [
           {
            "marker": {
             "colorbar": {
              "outlinewidth": 0,
              "ticks": ""
             }
            },
            "type": "scattergeo"
           }
          ],
          "scattergl": [
           {
            "marker": {
             "colorbar": {
              "outlinewidth": 0,
              "ticks": ""
             }
            },
            "type": "scattergl"
           }
          ],
          "scattermapbox": [
           {
            "marker": {
             "colorbar": {
              "outlinewidth": 0,
              "ticks": ""
             }
            },
            "type": "scattermapbox"
           }
          ],
          "scatterpolar": [
           {
            "marker": {
             "colorbar": {
              "outlinewidth": 0,
              "ticks": ""
             }
            },
            "type": "scatterpolar"
           }
          ],
          "scatterpolargl": [
           {
            "marker": {
             "colorbar": {
              "outlinewidth": 0,
              "ticks": ""
             }
            },
            "type": "scatterpolargl"
           }
          ],
          "scatterternary": [
           {
            "marker": {
             "colorbar": {
              "outlinewidth": 0,
              "ticks": ""
             }
            },
            "type": "scatterternary"
           }
          ],
          "surface": [
           {
            "colorbar": {
             "outlinewidth": 0,
             "ticks": ""
            },
            "colorscale": [
             [
              0,
              "#0d0887"
             ],
             [
              0.1111111111111111,
              "#46039f"
             ],
             [
              0.2222222222222222,
              "#7201a8"
             ],
             [
              0.3333333333333333,
              "#9c179e"
             ],
             [
              0.4444444444444444,
              "#bd3786"
             ],
             [
              0.5555555555555556,
              "#d8576b"
             ],
             [
              0.6666666666666666,
              "#ed7953"
             ],
             [
              0.7777777777777778,
              "#fb9f3a"
             ],
             [
              0.8888888888888888,
              "#fdca26"
             ],
             [
              1,
              "#f0f921"
             ]
            ],
            "type": "surface"
           }
          ],
          "table": [
           {
            "cells": {
             "fill": {
              "color": "#EBF0F8"
             },
             "line": {
              "color": "white"
             }
            },
            "header": {
             "fill": {
              "color": "#C8D4E3"
             },
             "line": {
              "color": "white"
             }
            },
            "type": "table"
           }
          ]
         },
         "layout": {
          "annotationdefaults": {
           "arrowcolor": "#2a3f5f",
           "arrowhead": 0,
           "arrowwidth": 1
          },
          "autotypenumbers": "strict",
          "coloraxis": {
           "colorbar": {
            "outlinewidth": 0,
            "ticks": ""
           }
          },
          "colorscale": {
           "diverging": [
            [
             0,
             "#8e0152"
            ],
            [
             0.1,
             "#c51b7d"
            ],
            [
             0.2,
             "#de77ae"
            ],
            [
             0.3,
             "#f1b6da"
            ],
            [
             0.4,
             "#fde0ef"
            ],
            [
             0.5,
             "#f7f7f7"
            ],
            [
             0.6,
             "#e6f5d0"
            ],
            [
             0.7,
             "#b8e186"
            ],
            [
             0.8,
             "#7fbc41"
            ],
            [
             0.9,
             "#4d9221"
            ],
            [
             1,
             "#276419"
            ]
           ],
           "sequential": [
            [
             0,
             "#0d0887"
            ],
            [
             0.1111111111111111,
             "#46039f"
            ],
            [
             0.2222222222222222,
             "#7201a8"
            ],
            [
             0.3333333333333333,
             "#9c179e"
            ],
            [
             0.4444444444444444,
             "#bd3786"
            ],
            [
             0.5555555555555556,
             "#d8576b"
            ],
            [
             0.6666666666666666,
             "#ed7953"
            ],
            [
             0.7777777777777778,
             "#fb9f3a"
            ],
            [
             0.8888888888888888,
             "#fdca26"
            ],
            [
             1,
             "#f0f921"
            ]
           ],
           "sequentialminus": [
            [
             0,
             "#0d0887"
            ],
            [
             0.1111111111111111,
             "#46039f"
            ],
            [
             0.2222222222222222,
             "#7201a8"
            ],
            [
             0.3333333333333333,
             "#9c179e"
            ],
            [
             0.4444444444444444,
             "#bd3786"
            ],
            [
             0.5555555555555556,
             "#d8576b"
            ],
            [
             0.6666666666666666,
             "#ed7953"
            ],
            [
             0.7777777777777778,
             "#fb9f3a"
            ],
            [
             0.8888888888888888,
             "#fdca26"
            ],
            [
             1,
             "#f0f921"
            ]
           ]
          },
          "colorway": [
           "#636efa",
           "#EF553B",
           "#00cc96",
           "#ab63fa",
           "#FFA15A",
           "#19d3f3",
           "#FF6692",
           "#B6E880",
           "#FF97FF",
           "#FECB52"
          ],
          "font": {
           "color": "#2a3f5f"
          },
          "geo": {
           "bgcolor": "white",
           "lakecolor": "white",
           "landcolor": "#E5ECF6",
           "showlakes": true,
           "showland": true,
           "subunitcolor": "white"
          },
          "hoverlabel": {
           "align": "left"
          },
          "hovermode": "closest",
          "mapbox": {
           "style": "light"
          },
          "paper_bgcolor": "white",
          "plot_bgcolor": "#E5ECF6",
          "polar": {
           "angularaxis": {
            "gridcolor": "white",
            "linecolor": "white",
            "ticks": ""
           },
           "bgcolor": "#E5ECF6",
           "radialaxis": {
            "gridcolor": "white",
            "linecolor": "white",
            "ticks": ""
           }
          },
          "scene": {
           "xaxis": {
            "backgroundcolor": "#E5ECF6",
            "gridcolor": "white",
            "gridwidth": 2,
            "linecolor": "white",
            "showbackground": true,
            "ticks": "",
            "zerolinecolor": "white"
           },
           "yaxis": {
            "backgroundcolor": "#E5ECF6",
            "gridcolor": "white",
            "gridwidth": 2,
            "linecolor": "white",
            "showbackground": true,
            "ticks": "",
            "zerolinecolor": "white"
           },
           "zaxis": {
            "backgroundcolor": "#E5ECF6",
            "gridcolor": "white",
            "gridwidth": 2,
            "linecolor": "white",
            "showbackground": true,
            "ticks": "",
            "zerolinecolor": "white"
           }
          },
          "shapedefaults": {
           "line": {
            "color": "#2a3f5f"
           }
          },
          "ternary": {
           "aaxis": {
            "gridcolor": "white",
            "linecolor": "white",
            "ticks": ""
           },
           "baxis": {
            "gridcolor": "white",
            "linecolor": "white",
            "ticks": ""
           },
           "bgcolor": "#E5ECF6",
           "caxis": {
            "gridcolor": "white",
            "linecolor": "white",
            "ticks": ""
           }
          },
          "title": {
           "x": 0.05
          },
          "xaxis": {
           "automargin": true,
           "gridcolor": "white",
           "linecolor": "white",
           "ticks": "",
           "title": {
            "standoff": 15
           },
           "zerolinecolor": "white",
           "zerolinewidth": 2
          },
          "yaxis": {
           "automargin": true,
           "gridcolor": "white",
           "linecolor": "white",
           "ticks": "",
           "title": {
            "standoff": 15
           },
           "zerolinecolor": "white",
           "zerolinewidth": 2
          }
         }
        },
        "title": {
         "text": "neighborhoods in Toronto"
        }
       }
      },
      "text/html": [
       "<div>                            <div id=\"15e54d8a-e321-4434-86e5-f0466c344933\" class=\"plotly-graph-div\" style=\"height:525px; width:100%;\"></div>            <script type=\"text/javascript\">                require([\"plotly\"], function(Plotly) {                    window.PLOTLYENV=window.PLOTLYENV || {};                                    if (document.getElementById(\"15e54d8a-e321-4434-86e5-f0466c344933\")) {                    Plotly.newPlot(                        \"15e54d8a-e321-4434-86e5-f0466c344933\",                        [{\"lat\": [43.6678556, 43.6509432, 43.6435152, 43.696319, 43.6369656, 43.6889054, 43.6056466, 43.7394164, 43.6024137, 43.7067483, 43.6536536, 43.6362579, 43.6288408, 43.8066863, 43.7845351, 43.7635726, 43.7709921, 43.773136, 43.7447342, 43.7279292, 43.716316, 43.7574096, 43.7942003, 43.7816375, 43.8152522, 43.8361247, 43.7459058, 43.8037622, 43.7543283, 43.7785175, 43.7869473, 43.7574902, 43.789053, 43.7332825, 43.7701199, 43.7280205, 43.7527583, 43.7827364, 43.7995252, 43.718518, 43.709577, 43.6890256, 43.7679803, 43.7374732, 43.7390146, 43.7137562, 43.7563033, 43.7284964, 43.6911158, 43.7247659, 43.7616313, 43.6731853, 43.706876, 43.6616083, 43.6515706, 43.6542599, 43.6623015, 43.6571618, 43.6514939, 43.6937813, 43.6447708, 43.6579524, 43.669542, 43.6505712, 43.6690051, 43.6408157, 43.6479267, 43.6471768, 43.6368472, 43.6481985, 43.7116948, 43.7127511, 43.6969476, 43.7153834, 43.6727097, 43.6489597, 43.7043244, 43.6626956, 43.6895743, 43.6532057, 43.6864123, 43.6289467, 43.6795626, 43.6464352, 43.667967, 43.6484292, 43.6658599], \"lon\": [-79.5322424, -79.5547244, -79.5772008, -79.5322424, -79.615819, -79.5547244, -79.5013207, -79.5884369, -79.5434841, -79.5940544, -79.5069436, -79.4985091, -79.5209994, -79.1943534, -79.1604971, -79.1887115, -79.2169174, -79.2394761, -79.2394761, -79.2620294, -79.2394761, -79.273304, -79.2620294, -79.3043021, -79.2845772, -79.2056361, -79.352188, -79.3634517, -79.4422593, -79.3465557, -79.385975, -79.3747141, -79.4084928, -79.4197497, -79.4084928, -79.3887901, -79.4000493, -79.4422593, -79.3183887, -79.4647633, -79.4450726, -79.453512, -79.4872619, -79.4647633, -79.5069436, -79.4900738, -79.5659633, -79.4956974, -79.4760133, -79.5322424, -79.5209994, -79.4872619, -79.5181884, -79.4647633, -79.4844499, -79.3606359, -79.3894938, -79.3789371, -79.3754179, -79.4281914, -79.3733064, -79.3873826, -79.4225637, -79.3845675, -79.4422593, -79.3817523, -79.4197497, -79.3815764, -79.4281914, -79.3798169, -79.4169356, -79.3901975, -79.4113072, -79.4056784, -79.4056784, -79.456325, -79.3887901, -79.4000493, -79.3831599, -79.4000493, -79.4000493, -79.3944199, -79.3775294, -79.374846, -79.3676753, -79.3822802, -79.3831599], \"marker\": {\"color\": [2, 2, 2, 2, 2, 2, 2, 2, 2, 2, 2, 2, 2, 3, 3, 3, 3, 3, 3, 3, 3, 3, 3, 3, 3, 3, 4, 4, 4, 4, 4, 4, 4, 4, 4, 4, 4, 4, 4, 5, 5, 5, 5, 5, 5, 5, 5, 5, 5, 5, 5, 5, 5, 5, 5, 6, 6, 6, 6, 6, 6, 6, 6, 6, 6, 6, 6, 6, 6, 6, 6, 6, 6, 6, 6, 6, 6, 6, 6, 6, 6, 6, 6, 6, 6, 6, 6]}, \"mode\": \"markers\", \"text\": [\"Etobicoke\", \"Etobicoke\", \"Etobicoke\", \"Etobicoke\", \"Mississauga\", \"Etobicoke\", \"Etobicoke\", \"Etobicoke\", \"Etobicoke\", \"Etobicoke Northwest\", \"Etobicoke\", \"Etobicoke\", \"Etobicoke\", \"Scarborough\", \"Scarborough\", \"Scarborough\", \"Scarborough\", \"Scarborough\", \"Scarborough\", \"Scarborough\", \"Scarborough\", \"Scarborough\", \"Scarborough\", \"Scarborough\", \"Scarborough\", \"Scarborough\", \"North York\", \"North York\", \"North York\", \"North York\", \"North York\", \"North York\", \"North York\", \"North York\", \"North York\", \"Central Toronto\", \"North York\", \"North York\", \"Scarborough\", \"North York\", \"North York\", \"York\", \"North York\", \"North York\", \"North York\", \"North York\", \"North York\", \"North York\", \"York\", \"North York\", \"North York\", \"York\", \"York\", \"West Toronto\", \"West Toronto\", \"Downtown Toronto\", \"Queen's Park\", \"Downtown Toronto\", \"Downtown Toronto\", \"York\", \"Downtown Toronto\", \"Downtown Toronto\", \"Downtown Toronto\", \"Downtown Toronto\", \"West Toronto\", \"Downtown Toronto\", \"West Toronto\", \"Downtown Toronto\", \"West Toronto\", \"Downtown Toronto\", \"Central Toronto\", \"Central Toronto\", \"Central Toronto\", \"Central Toronto\", \"Central Toronto\", \"West Toronto\", \"Central Toronto\", \"Downtown Toronto\", \"Central Toronto\", \"Downtown Toronto\", \"Central Toronto\", \"Downtown Toronto\", \"Downtown Toronto\", \"Downtown Toronto Stn A\", \"Downtown Toronto\", \"Downtown Toronto\", \"Downtown Toronto\"], \"type\": \"scattergeo\"}],                        {\"geo\": {\"scope\": \"north america\"}, \"template\": {\"data\": {\"bar\": [{\"error_x\": {\"color\": \"#2a3f5f\"}, \"error_y\": {\"color\": \"#2a3f5f\"}, \"marker\": {\"line\": {\"color\": \"#E5ECF6\", \"width\": 0.5}}, \"type\": \"bar\"}], \"barpolar\": [{\"marker\": {\"line\": {\"color\": \"#E5ECF6\", \"width\": 0.5}}, \"type\": \"barpolar\"}], \"carpet\": [{\"aaxis\": {\"endlinecolor\": \"#2a3f5f\", \"gridcolor\": \"white\", \"linecolor\": \"white\", \"minorgridcolor\": \"white\", \"startlinecolor\": \"#2a3f5f\"}, \"baxis\": {\"endlinecolor\": \"#2a3f5f\", \"gridcolor\": \"white\", \"linecolor\": \"white\", \"minorgridcolor\": \"white\", \"startlinecolor\": \"#2a3f5f\"}, \"type\": \"carpet\"}], \"choropleth\": [{\"colorbar\": {\"outlinewidth\": 0, \"ticks\": \"\"}, \"type\": \"choropleth\"}], \"contour\": [{\"colorbar\": {\"outlinewidth\": 0, \"ticks\": \"\"}, \"colorscale\": [[0.0, \"#0d0887\"], [0.1111111111111111, \"#46039f\"], [0.2222222222222222, \"#7201a8\"], [0.3333333333333333, \"#9c179e\"], [0.4444444444444444, \"#bd3786\"], [0.5555555555555556, \"#d8576b\"], [0.6666666666666666, \"#ed7953\"], [0.7777777777777778, \"#fb9f3a\"], [0.8888888888888888, \"#fdca26\"], [1.0, \"#f0f921\"]], \"type\": \"contour\"}], \"contourcarpet\": [{\"colorbar\": {\"outlinewidth\": 0, \"ticks\": \"\"}, \"type\": \"contourcarpet\"}], \"heatmap\": [{\"colorbar\": {\"outlinewidth\": 0, \"ticks\": \"\"}, \"colorscale\": [[0.0, \"#0d0887\"], [0.1111111111111111, \"#46039f\"], [0.2222222222222222, \"#7201a8\"], [0.3333333333333333, \"#9c179e\"], [0.4444444444444444, \"#bd3786\"], [0.5555555555555556, \"#d8576b\"], [0.6666666666666666, \"#ed7953\"], [0.7777777777777778, \"#fb9f3a\"], [0.8888888888888888, \"#fdca26\"], [1.0, \"#f0f921\"]], \"type\": \"heatmap\"}], \"heatmapgl\": [{\"colorbar\": {\"outlinewidth\": 0, \"ticks\": \"\"}, \"colorscale\": [[0.0, \"#0d0887\"], [0.1111111111111111, \"#46039f\"], [0.2222222222222222, \"#7201a8\"], [0.3333333333333333, \"#9c179e\"], [0.4444444444444444, \"#bd3786\"], [0.5555555555555556, \"#d8576b\"], [0.6666666666666666, \"#ed7953\"], [0.7777777777777778, \"#fb9f3a\"], [0.8888888888888888, \"#fdca26\"], [1.0, \"#f0f921\"]], \"type\": \"heatmapgl\"}], \"histogram\": [{\"marker\": {\"colorbar\": {\"outlinewidth\": 0, \"ticks\": \"\"}}, \"type\": \"histogram\"}], \"histogram2d\": [{\"colorbar\": {\"outlinewidth\": 0, \"ticks\": \"\"}, \"colorscale\": [[0.0, \"#0d0887\"], [0.1111111111111111, \"#46039f\"], [0.2222222222222222, \"#7201a8\"], [0.3333333333333333, \"#9c179e\"], [0.4444444444444444, \"#bd3786\"], [0.5555555555555556, \"#d8576b\"], [0.6666666666666666, \"#ed7953\"], [0.7777777777777778, \"#fb9f3a\"], [0.8888888888888888, \"#fdca26\"], [1.0, \"#f0f921\"]], \"type\": \"histogram2d\"}], \"histogram2dcontour\": [{\"colorbar\": {\"outlinewidth\": 0, \"ticks\": \"\"}, \"colorscale\": [[0.0, \"#0d0887\"], [0.1111111111111111, \"#46039f\"], [0.2222222222222222, \"#7201a8\"], [0.3333333333333333, \"#9c179e\"], [0.4444444444444444, \"#bd3786\"], [0.5555555555555556, \"#d8576b\"], [0.6666666666666666, \"#ed7953\"], [0.7777777777777778, \"#fb9f3a\"], [0.8888888888888888, \"#fdca26\"], [1.0, \"#f0f921\"]], \"type\": \"histogram2dcontour\"}], \"mesh3d\": [{\"colorbar\": {\"outlinewidth\": 0, \"ticks\": \"\"}, \"type\": \"mesh3d\"}], \"parcoords\": [{\"line\": {\"colorbar\": {\"outlinewidth\": 0, \"ticks\": \"\"}}, \"type\": \"parcoords\"}], \"pie\": [{\"automargin\": true, \"type\": \"pie\"}], \"scatter\": [{\"marker\": {\"colorbar\": {\"outlinewidth\": 0, \"ticks\": \"\"}}, \"type\": \"scatter\"}], \"scatter3d\": [{\"line\": {\"colorbar\": {\"outlinewidth\": 0, \"ticks\": \"\"}}, \"marker\": {\"colorbar\": {\"outlinewidth\": 0, \"ticks\": \"\"}}, \"type\": \"scatter3d\"}], \"scattercarpet\": [{\"marker\": {\"colorbar\": {\"outlinewidth\": 0, \"ticks\": \"\"}}, \"type\": \"scattercarpet\"}], \"scattergeo\": [{\"marker\": {\"colorbar\": {\"outlinewidth\": 0, \"ticks\": \"\"}}, \"type\": \"scattergeo\"}], \"scattergl\": [{\"marker\": {\"colorbar\": {\"outlinewidth\": 0, \"ticks\": \"\"}}, \"type\": \"scattergl\"}], \"scattermapbox\": [{\"marker\": {\"colorbar\": {\"outlinewidth\": 0, \"ticks\": \"\"}}, \"type\": \"scattermapbox\"}], \"scatterpolar\": [{\"marker\": {\"colorbar\": {\"outlinewidth\": 0, \"ticks\": \"\"}}, \"type\": \"scatterpolar\"}], \"scatterpolargl\": [{\"marker\": {\"colorbar\": {\"outlinewidth\": 0, \"ticks\": \"\"}}, \"type\": \"scatterpolargl\"}], \"scatterternary\": [{\"marker\": {\"colorbar\": {\"outlinewidth\": 0, \"ticks\": \"\"}}, \"type\": \"scatterternary\"}], \"surface\": [{\"colorbar\": {\"outlinewidth\": 0, \"ticks\": \"\"}, \"colorscale\": [[0.0, \"#0d0887\"], [0.1111111111111111, \"#46039f\"], [0.2222222222222222, \"#7201a8\"], [0.3333333333333333, \"#9c179e\"], [0.4444444444444444, \"#bd3786\"], [0.5555555555555556, \"#d8576b\"], [0.6666666666666666, \"#ed7953\"], [0.7777777777777778, \"#fb9f3a\"], [0.8888888888888888, \"#fdca26\"], [1.0, \"#f0f921\"]], \"type\": \"surface\"}], \"table\": [{\"cells\": {\"fill\": {\"color\": \"#EBF0F8\"}, \"line\": {\"color\": \"white\"}}, \"header\": {\"fill\": {\"color\": \"#C8D4E3\"}, \"line\": {\"color\": \"white\"}}, \"type\": \"table\"}]}, \"layout\": {\"annotationdefaults\": {\"arrowcolor\": \"#2a3f5f\", \"arrowhead\": 0, \"arrowwidth\": 1}, \"autotypenumbers\": \"strict\", \"coloraxis\": {\"colorbar\": {\"outlinewidth\": 0, \"ticks\": \"\"}}, \"colorscale\": {\"diverging\": [[0, \"#8e0152\"], [0.1, \"#c51b7d\"], [0.2, \"#de77ae\"], [0.3, \"#f1b6da\"], [0.4, \"#fde0ef\"], [0.5, \"#f7f7f7\"], [0.6, \"#e6f5d0\"], [0.7, \"#b8e186\"], [0.8, \"#7fbc41\"], [0.9, \"#4d9221\"], [1, \"#276419\"]], \"sequential\": [[0.0, \"#0d0887\"], [0.1111111111111111, \"#46039f\"], [0.2222222222222222, \"#7201a8\"], [0.3333333333333333, \"#9c179e\"], [0.4444444444444444, \"#bd3786\"], [0.5555555555555556, \"#d8576b\"], [0.6666666666666666, \"#ed7953\"], [0.7777777777777778, \"#fb9f3a\"], [0.8888888888888888, \"#fdca26\"], [1.0, \"#f0f921\"]], \"sequentialminus\": [[0.0, \"#0d0887\"], [0.1111111111111111, \"#46039f\"], [0.2222222222222222, \"#7201a8\"], [0.3333333333333333, \"#9c179e\"], [0.4444444444444444, \"#bd3786\"], [0.5555555555555556, \"#d8576b\"], [0.6666666666666666, \"#ed7953\"], [0.7777777777777778, \"#fb9f3a\"], [0.8888888888888888, \"#fdca26\"], [1.0, \"#f0f921\"]]}, \"colorway\": [\"#636efa\", \"#EF553B\", \"#00cc96\", \"#ab63fa\", \"#FFA15A\", \"#19d3f3\", \"#FF6692\", \"#B6E880\", \"#FF97FF\", \"#FECB52\"], \"font\": {\"color\": \"#2a3f5f\"}, \"geo\": {\"bgcolor\": \"white\", \"lakecolor\": \"white\", \"landcolor\": \"#E5ECF6\", \"showlakes\": true, \"showland\": true, \"subunitcolor\": \"white\"}, \"hoverlabel\": {\"align\": \"left\"}, \"hovermode\": \"closest\", \"mapbox\": {\"style\": \"light\"}, \"paper_bgcolor\": \"white\", \"plot_bgcolor\": \"#E5ECF6\", \"polar\": {\"angularaxis\": {\"gridcolor\": \"white\", \"linecolor\": \"white\", \"ticks\": \"\"}, \"bgcolor\": \"#E5ECF6\", \"radialaxis\": {\"gridcolor\": \"white\", \"linecolor\": \"white\", \"ticks\": \"\"}}, \"scene\": {\"xaxis\": {\"backgroundcolor\": \"#E5ECF6\", \"gridcolor\": \"white\", \"gridwidth\": 2, \"linecolor\": \"white\", \"showbackground\": true, \"ticks\": \"\", \"zerolinecolor\": \"white\"}, \"yaxis\": {\"backgroundcolor\": \"#E5ECF6\", \"gridcolor\": \"white\", \"gridwidth\": 2, \"linecolor\": \"white\", \"showbackground\": true, \"ticks\": \"\", \"zerolinecolor\": \"white\"}, \"zaxis\": {\"backgroundcolor\": \"#E5ECF6\", \"gridcolor\": \"white\", \"gridwidth\": 2, \"linecolor\": \"white\", \"showbackground\": true, \"ticks\": \"\", \"zerolinecolor\": \"white\"}}, \"shapedefaults\": {\"line\": {\"color\": \"#2a3f5f\"}}, \"ternary\": {\"aaxis\": {\"gridcolor\": \"white\", \"linecolor\": \"white\", \"ticks\": \"\"}, \"baxis\": {\"gridcolor\": \"white\", \"linecolor\": \"white\", \"ticks\": \"\"}, \"bgcolor\": \"#E5ECF6\", \"caxis\": {\"gridcolor\": \"white\", \"linecolor\": \"white\", \"ticks\": \"\"}}, \"title\": {\"x\": 0.05}, \"xaxis\": {\"automargin\": true, \"gridcolor\": \"white\", \"linecolor\": \"white\", \"ticks\": \"\", \"title\": {\"standoff\": 15}, \"zerolinecolor\": \"white\", \"zerolinewidth\": 2}, \"yaxis\": {\"automargin\": true, \"gridcolor\": \"white\", \"linecolor\": \"white\", \"ticks\": \"\", \"title\": {\"standoff\": 15}, \"zerolinecolor\": \"white\", \"zerolinewidth\": 2}}}, \"title\": {\"text\": \"neighborhoods in Toronto\"}},                        {\"responsive\": true}                    ).then(function(){\n",
       "                            \n",
       "var gd = document.getElementById('15e54d8a-e321-4434-86e5-f0466c344933');\n",
       "var x = new MutationObserver(function (mutations, observer) {{\n",
       "        var display = window.getComputedStyle(gd).display;\n",
       "        if (!display || display === 'none') {{\n",
       "            console.log([gd, 'removed!']);\n",
       "            Plotly.purge(gd);\n",
       "            observer.disconnect();\n",
       "        }}\n",
       "}});\n",
       "\n",
       "// Listen for the removal of the full notebook cells\n",
       "var notebookContainer = gd.closest('#notebook-container');\n",
       "if (notebookContainer) {{\n",
       "    x.observe(notebookContainer, {childList: true});\n",
       "}}\n",
       "\n",
       "// Listen for the clearing of the current output cell\n",
       "var outputEl = gd.closest('.output');\n",
       "if (outputEl) {{\n",
       "    x.observe(outputEl, {childList: true});\n",
       "}}\n",
       "\n",
       "                        })                };                });            </script>        </div>"
      ]
     },
     "metadata": {},
     "output_type": "display_data"
    }
   ],
   "source": [
    "fig = go.Figure(data=go.Scattergeo(\n",
    "        lon = grouped_data['Longitude'],\n",
    "        lat = grouped_data['Latitude'],\n",
    "        text = grouped_data['Borough'],\n",
    "        mode = 'markers',\n",
    "        marker_color = grouped_data['group'],\n",
    "        ))\n",
    "\n",
    "fig.update_layout(\n",
    "        title = 'neighborhoods in Toronto',\n",
    "        geo_scope='north america',\n",
    "    )\n",
    "fig.show()"
   ]
  },
  {
   "cell_type": "code",
   "execution_count": null,
   "metadata": {},
   "outputs": [],
   "source": []
  }
 ],
 "metadata": {
  "kernelspec": {
   "display_name": "Python 3",
   "language": "python",
   "name": "python3"
  },
  "language_info": {
   "codemirror_mode": {
    "name": "ipython",
    "version": 3
   },
   "file_extension": ".py",
   "mimetype": "text/x-python",
   "name": "python",
   "nbconvert_exporter": "python",
   "pygments_lexer": "ipython3",
   "version": "3.8.8"
  },
  "metadata": {
   "interpreter": {
    "hash": "31f2aee4e71d21fbe5cf8b01ff0e069b9275f58929596ceb00d14d90e3e16cd6"
   }
  }
 },
 "nbformat": 4,
 "nbformat_minor": 2
}
