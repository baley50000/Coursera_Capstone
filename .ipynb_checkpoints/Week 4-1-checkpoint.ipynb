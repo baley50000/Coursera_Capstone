{
 "cells": [
  {
   "cell_type": "markdown",
   "id": "6b844acc",
   "metadata": {},
   "source": [
    "I live in Taiwan, Kaohsiung City.\n",
    "\n",
    "Small eats are the big things in Taiwan. Bubble tea, Braised pork rice, Stinky tofu, etc..\n",
    "\n",
    "In Taiwan, we can find all of them in a special place, **night market**, a big food court out of door and only open at night. \n",
    "\n",
    "Not only delicious food but also fun games are provided in night market.\n",
    "\n",
    "There are many night market in Kaohsiung. **How can we visit most of them in 3 nights?**\n",
    "\n",
    "If you are intrested in eatting delicious food in night market, keep watching:D\n"
   ]
  },
  {
   "cell_type": "markdown",
   "id": "3f343336",
   "metadata": {},
   "source": [
    "<img src=\"https://blog.gamafamily.tw/wordpress/wp-content/uploads/2018/06/20180606%E5%90%84%E5%BC%8F%E5%8F%B0%E7%81%A3%E5%B0%8F%E5%90%83%E8%8B%B1%E6%96%87.jpg\">"
   ]
  },
  {
   "cell_type": "code",
   "execution_count": null,
   "id": "79176001",
   "metadata": {},
   "outputs": [],
   "source": []
  }
 ],
 "metadata": {
  "kernelspec": {
   "display_name": "Python 3",
   "language": "python",
   "name": "python3"
  },
  "language_info": {
   "codemirror_mode": {
    "name": "ipython",
    "version": 3
   },
   "file_extension": ".py",
   "mimetype": "text/x-python",
   "name": "python",
   "nbconvert_exporter": "python",
   "pygments_lexer": "ipython3",
   "version": "3.8.8"
  }
 },
 "nbformat": 4,
 "nbformat_minor": 5
}
